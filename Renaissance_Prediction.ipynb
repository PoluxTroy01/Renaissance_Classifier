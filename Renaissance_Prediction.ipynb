{
 "cells": [
  {
   "cell_type": "markdown",
   "metadata": {},
   "source": [
    "# Renaissance Prediction Model\n",
    "\n",
    "Create a model that predicts, based on pased and recent headlines, whether the statement belongs or not to recent times."
   ]
  },
  {
   "cell_type": "code",
   "execution_count": 4,
   "metadata": {},
   "outputs": [],
   "source": [
    "# first we import the libraries\n",
    "import pandas as pd\n",
    "import numpy as np\n",
    "import matplotlib.pyplot as plt\n",
    "\n",
    "import tensorflow as tf\n",
    "from tensorflow.keras.layers import Embedding\n",
    "from tensorflow.keras.preprocessing.sequence import pad_sequences\n",
    "from tensorflow.keras.models import Sequential\n",
    "from tensorflow.keras.preprocessing.text import one_hot\n",
    "from tensorflow.keras.layers import LSTM\n",
    "from tensorflow.keras.layers import Dense\n",
    "from tensorflow.keras.layers import Bidirectional\n",
    "from tensorflow.keras.layers import Dropout\n",
    "from tensorflow.keras.layers import Flatten\n",
    "import nltk\n",
    "import re\n",
    "from nltk.corpus import stopwords\n",
    "from nltk.stem.porter import PorterStemmer\n",
    "from nltk.stem import WordNetLemmatizer\n",
    "import string\n",
    "from wordcloud import WordCloud\n",
    "from collections import Counter\n",
    "from sklearn.model_selection import train_test_split\n",
    "from sklearn.metrics import confusion_matrix\n",
    "from sklearn.metrics import accuracy_score\n",
    "from sklearn.metrics import classification_report\n",
    "from sklearn.metrics import \n",
    "\n",
    "%matplotlib inline"
   ]
  },
  {
   "cell_type": "code",
   "execution_count": 2,
   "metadata": {},
   "outputs": [
    {
     "data": {
      "text/html": [
       "<div>\n",
       "<style scoped>\n",
       "    .dataframe tbody tr th:only-of-type {\n",
       "        vertical-align: middle;\n",
       "    }\n",
       "\n",
       "    .dataframe tbody tr th {\n",
       "        vertical-align: top;\n",
       "    }\n",
       "\n",
       "    .dataframe thead th {\n",
       "        text-align: right;\n",
       "    }\n",
       "</style>\n",
       "<table border=\"1\" class=\"dataframe\">\n",
       "  <thead>\n",
       "    <tr style=\"text-align: right;\">\n",
       "      <th></th>\n",
       "      <th>Renaissance</th>\n",
       "      <th>Text</th>\n",
       "    </tr>\n",
       "  </thead>\n",
       "  <tbody>\n",
       "    <tr>\n",
       "      <th>0</th>\n",
       "      <td>0</td>\n",
       "      <td>El TLC no sirvió, a México lo incrustaron, ni ...</td>\n",
       "    </tr>\n",
       "    <tr>\n",
       "      <th>1</th>\n",
       "      <td>0</td>\n",
       "      <td>Hay más de 80 millones de pobres, se exportan ...</td>\n",
       "    </tr>\n",
       "    <tr>\n",
       "      <th>2</th>\n",
       "      <td>0</td>\n",
       "      <td>Cedimos la banca nacional, no puedes competir ...</td>\n",
       "    </tr>\n",
       "    <tr>\n",
       "      <th>3</th>\n",
       "      <td>0</td>\n",
       "      <td>No está fluyendo el dinero, se dice que tienen...</td>\n",
       "    </tr>\n",
       "    <tr>\n",
       "      <th>4</th>\n",
       "      <td>0</td>\n",
       "      <td>Las cajas de ahorro (casi 500) las había cread...</td>\n",
       "    </tr>\n",
       "  </tbody>\n",
       "</table>\n",
       "</div>"
      ],
      "text/plain": [
       "   Renaissance                                               Text\n",
       "0            0  El TLC no sirvió, a México lo incrustaron, ni ...\n",
       "1            0  Hay más de 80 millones de pobres, se exportan ...\n",
       "2            0  Cedimos la banca nacional, no puedes competir ...\n",
       "3            0  No está fluyendo el dinero, se dice que tienen...\n",
       "4            0  Las cajas de ahorro (casi 500) las había cread..."
      ]
     },
     "execution_count": 2,
     "metadata": {},
     "output_type": "execute_result"
    }
   ],
   "source": [
    "# Checking out the dataset\n",
    "df = pd.read_excel(\"Gisell.xlsx\")\n",
    "df.head()"
   ]
  },
  {
   "cell_type": "markdown",
   "metadata": {},
   "source": [
    "> **The 'Text' column contains the headlines for the training and testing set. The 'Renaissance' column is the binary dependent variable**"
   ]
  },
  {
   "cell_type": "code",
   "execution_count": 48,
   "metadata": {},
   "outputs": [],
   "source": [
    "# Lets create some functions\n",
    "def create_corpus(df, target):\n",
    "    corpus = []\n",
    "    for i in df[df[\"Renaissance\"] == target].Text.str.split():\n",
    "        for j in i:\n",
    "            corpus.append(j)\n",
    "    return corpus\n",
    "\n",
    "# Removing punctuation\n",
    "def remove_punct(text):\n",
    "    table = str.maketrans(\"\", \"\", string.punctuation)\n",
    "    return text.translate(table)\n",
    "\n",
    "# Removing the stopwores\n",
    "def remove_stopwords(text):\n",
    "    text = [word.lower() for word in text.split() if word.lower() not in stop]\n",
    "    return \" \".join(text)\n",
    "\n",
    "def lematizer(text):\n",
    "    text = [wordnet.lemmatize(word) for word in text.split()]\n",
    "    return \" \".join(text)"
   ]
  },
  {
   "cell_type": "code",
   "execution_count": 5,
   "metadata": {},
   "outputs": [],
   "source": [
    "# Getting the spanish stop words\n",
    "stop = set(stopwords.words(\"spanish\"))"
   ]
  },
  {
   "cell_type": "markdown",
   "metadata": {},
   "source": [
    "# Word Cloud\n",
    "Given the fact that we have a binary classification task we can visualize the most common words that represent both categories, i.e '0' and '1'. But for that we have to clean the dataset and remove some words that represent no meaning when the model is trained."
   ]
  },
  {
   "cell_type": "code",
   "execution_count": 6,
   "metadata": {},
   "outputs": [],
   "source": [
    "# Make a copy of the original dataset so we can make some changes\n",
    "df_2 = df.copy()"
   ]
  },
  {
   "cell_type": "code",
   "execution_count": 8,
   "metadata": {},
   "outputs": [
    {
     "data": {
      "text/html": [
       "<div>\n",
       "<style scoped>\n",
       "    .dataframe tbody tr th:only-of-type {\n",
       "        vertical-align: middle;\n",
       "    }\n",
       "\n",
       "    .dataframe tbody tr th {\n",
       "        vertical-align: top;\n",
       "    }\n",
       "\n",
       "    .dataframe thead th {\n",
       "        text-align: right;\n",
       "    }\n",
       "</style>\n",
       "<table border=\"1\" class=\"dataframe\">\n",
       "  <thead>\n",
       "    <tr style=\"text-align: right;\">\n",
       "      <th></th>\n",
       "      <th>Renaissance</th>\n",
       "      <th>Text</th>\n",
       "    </tr>\n",
       "  </thead>\n",
       "  <tbody>\n",
       "    <tr>\n",
       "      <th>0</th>\n",
       "      <td>0</td>\n",
       "      <td>El TLC no sirvió, a México lo incrustaron, ni ...</td>\n",
       "    </tr>\n",
       "    <tr>\n",
       "      <th>1</th>\n",
       "      <td>0</td>\n",
       "      <td>Hay más de 80 millones de pobres, se exportan ...</td>\n",
       "    </tr>\n",
       "    <tr>\n",
       "      <th>2</th>\n",
       "      <td>0</td>\n",
       "      <td>Cedimos la banca nacional, no puedes competir ...</td>\n",
       "    </tr>\n",
       "    <tr>\n",
       "      <th>3</th>\n",
       "      <td>0</td>\n",
       "      <td>No está fluyendo el dinero, se dice que tienen...</td>\n",
       "    </tr>\n",
       "    <tr>\n",
       "      <th>4</th>\n",
       "      <td>0</td>\n",
       "      <td>Las cajas de ahorro (casi 500) las había cread...</td>\n",
       "    </tr>\n",
       "  </tbody>\n",
       "</table>\n",
       "</div>"
      ],
      "text/plain": [
       "   Renaissance                                               Text\n",
       "0            0  El TLC no sirvió, a México lo incrustaron, ni ...\n",
       "1            0  Hay más de 80 millones de pobres, se exportan ...\n",
       "2            0  Cedimos la banca nacional, no puedes competir ...\n",
       "3            0  No está fluyendo el dinero, se dice que tienen...\n",
       "4            0  Las cajas de ahorro (casi 500) las había cread..."
      ]
     },
     "execution_count": 8,
     "metadata": {},
     "output_type": "execute_result"
    }
   ],
   "source": [
    "df_2.head()"
   ]
  },
  {
   "cell_type": "code",
   "execution_count": 16,
   "metadata": {},
   "outputs": [],
   "source": [
    "df_2[\"Text\"] = df_2[\"Text\"].map(remove_punct)"
   ]
  },
  {
   "cell_type": "code",
   "execution_count": 18,
   "metadata": {},
   "outputs": [],
   "source": [
    "df_2[\"Text\"] = df_2[\"Text\"].map(lambda x: x.lower())"
   ]
  },
  {
   "cell_type": "code",
   "execution_count": 21,
   "metadata": {},
   "outputs": [],
   "source": [
    "df_2[\"Text\"] = df_2[\"Text\"].map(remove_stopwords)"
   ]
  },
  {
   "cell_type": "markdown",
   "metadata": {},
   "source": [
    "> **Creating the corpus for each category. The corpus represents the words in each one of the statements or headlines that lead to a negative ('0') valuation**"
   ]
  },
  {
   "cell_type": "code",
   "execution_count": 23,
   "metadata": {},
   "outputs": [],
   "source": [
    "corpus0 = create_corpus(df_2, 0)\n",
    "corpus1 = create_corpus(df_2, 1)"
   ]
  },
  {
   "cell_type": "code",
   "execution_count": 25,
   "metadata": {},
   "outputs": [
    {
     "data": {
      "text/plain": [
       "(3415, 1806)"
      ]
     },
     "execution_count": 25,
     "metadata": {},
     "output_type": "execute_result"
    }
   ],
   "source": [
    "len(corpus0), len(corpus1)"
   ]
  },
  {
   "cell_type": "code",
   "execution_count": 31,
   "metadata": {},
   "outputs": [
    {
     "data": {
      "text/plain": [
       "['tlc',\n",
       " 'sirvió',\n",
       " 'méxico',\n",
       " 'incrustaron',\n",
       " 'siquiera',\n",
       " 'consultaron',\n",
       " '80',\n",
       " 'millones',\n",
       " 'pobres',\n",
       " 'exportan',\n",
       " '30',\n",
       " 'millones',\n",
       " 'mexicanos',\n",
       " 'trabajo',\n",
       " 'cedimos']"
      ]
     },
     "execution_count": 31,
     "metadata": {},
     "output_type": "execute_result"
    }
   ],
   "source": [
    "corpus0[0:15]"
   ]
  },
  {
   "cell_type": "code",
   "execution_count": 32,
   "metadata": {},
   "outputs": [
    {
     "data": {
      "text/plain": [
       "['momento',\n",
       " 'sumamente',\n",
       " 'militar',\n",
       " 'trump',\n",
       " 'política',\n",
       " 'proteccionista',\n",
       " 'facto',\n",
       " 'dice',\n",
       " 'modelo',\n",
       " 'neoliberal',\n",
       " 'muerto',\n",
       " 'existe',\n",
       " 'globalización',\n",
       " 'digital',\n",
       " 'sustituyendo']"
      ]
     },
     "execution_count": 32,
     "metadata": {},
     "output_type": "execute_result"
    }
   ],
   "source": [
    "corpus1[0:15]"
   ]
  },
  {
   "cell_type": "code",
   "execution_count": 33,
   "metadata": {},
   "outputs": [],
   "source": [
    "contador0 = Counter(corpus0)\n",
    "contador1 = Counter(corpus1)"
   ]
  },
  {
   "cell_type": "code",
   "execution_count": 36,
   "metadata": {},
   "outputs": [
    {
     "data": {
      "text/plain": [
       "(1855, 1182)"
      ]
     },
     "execution_count": 36,
     "metadata": {},
     "output_type": "execute_result"
    }
   ],
   "source": [
    "# the numnber of unique words\n",
    "len(contador0), len(contador1)"
   ]
  },
  {
   "cell_type": "code",
   "execution_count": 39,
   "metadata": {},
   "outputs": [
    {
     "data": {
      "image/png": "[encoded data removed]",
      "text/plain": [
       "<Figure size 1584x792 with 2 Axes>"
      ]
     },
     "metadata": {
      "needs_background": "light"
     },
     "output_type": "display_data"
    }
   ],
   "source": [
    "# now creating the word clouds\n",
    "word_cloud0 = WordCloud(background_color='black', max_font_size=80).generate(\n",
    "    \" \".join([i[0] for i in contador0.most_common()[:50]])\n",
    ")\n",
    "word_cloud1 = WordCloud(background_color='black', max_font_size=80).generate(\n",
    "    \" \".join([i[0] for i in contador1.most_common()[:50]])\n",
    ")\n",
    "plt.figure(1, figsize=(22, 11))\n",
    "plt.subplot(1,2,1)\n",
    "plt.imshow(word_cloud1)\n",
    "plt.subplot(1,2,2)\n",
    "plt.imshow((word_cloud0));"
   ]
  },
  {
   "cell_type": "markdown",
   "metadata": {},
   "source": [
    "> **The one on the left represents the words that are most common from the positive ('1') side. The one in the right shows the words that are most used in the negative ('0') category**\n",
    "\n",
    "\n",
    "Its always good to get an idea of what we are dealing with from the beginning, in this case get a sense of the theme in each category"
   ]
  },
  {
   "cell_type": "markdown",
   "metadata": {},
   "source": [
    "# Create the Model"
   ]
  },
  {
   "cell_type": "code",
   "execution_count": 55,
   "metadata": {},
   "outputs": [],
   "source": [
    "# First we clean the dataset, remove the punctuation marks\n",
    "df[\"Text\"] = df.Text.map(lambda x: remove_punct(x))"
   ]
  },
  {
   "cell_type": "code",
   "execution_count": 57,
   "metadata": {},
   "outputs": [],
   "source": [
    "# Then taking of the Caps Lock\n",
    "df[\"Text\"] = df[\"Text\"].map(lambda x: x.lower())"
   ]
  },
  {
   "cell_type": "markdown",
   "metadata": {},
   "source": [
    "#### **The Lemmatizer function is to reduce the words to its base mode, e.g felicidad -> feliz**"
   ]
  },
  {
   "cell_type": "code",
   "execution_count": null,
   "metadata": {},
   "outputs": [],
   "source": [
    "wordnet = WordNetLemmatizer()\n",
    "corpus = []"
   ]
  },
  {
   "cell_type": "code",
   "execution_count": 60,
   "metadata": {},
   "outputs": [],
   "source": [
    "# In this case we preserve the stop words since the statements in the Text don't have the length of a full article\n",
    "df[\"Text\"] = df.Text.apply(lematizer)"
   ]
  },
  {
   "cell_type": "code",
   "execution_count": 64,
   "metadata": {},
   "outputs": [
    {
     "data": {
      "text/html": [
       "<div>\n",
       "<style scoped>\n",
       "    .dataframe tbody tr th:only-of-type {\n",
       "        vertical-align: middle;\n",
       "    }\n",
       "\n",
       "    .dataframe tbody tr th {\n",
       "        vertical-align: top;\n",
       "    }\n",
       "\n",
       "    .dataframe thead th {\n",
       "        text-align: right;\n",
       "    }\n",
       "</style>\n",
       "<table border=\"1\" class=\"dataframe\">\n",
       "  <thead>\n",
       "    <tr style=\"text-align: right;\">\n",
       "      <th></th>\n",
       "      <th>Renaissance</th>\n",
       "      <th>Text</th>\n",
       "    </tr>\n",
       "  </thead>\n",
       "  <tbody>\n",
       "    <tr>\n",
       "      <th>0</th>\n",
       "      <td>0</td>\n",
       "      <td>el tlc no sirvió a méxico lo incrustaron ni si...</td>\n",
       "    </tr>\n",
       "    <tr>\n",
       "      <th>1</th>\n",
       "      <td>0</td>\n",
       "      <td>hay más de 80 millones de pobres se exportan 3...</td>\n",
       "    </tr>\n",
       "    <tr>\n",
       "      <th>2</th>\n",
       "      <td>0</td>\n",
       "      <td>cedimos la banca nacional no puedes competir s...</td>\n",
       "    </tr>\n",
       "    <tr>\n",
       "      <th>3</th>\n",
       "      <td>0</td>\n",
       "      <td>no está fluyendo el dinero se dice que tienen ...</td>\n",
       "    </tr>\n",
       "    <tr>\n",
       "      <th>4</th>\n",
       "      <td>0</td>\n",
       "      <td>la cajas de ahorro casi 500 la había creado ad...</td>\n",
       "    </tr>\n",
       "  </tbody>\n",
       "</table>\n",
       "</div>"
      ],
      "text/plain": [
       "   Renaissance                                               Text\n",
       "0            0  el tlc no sirvió a méxico lo incrustaron ni si...\n",
       "1            0  hay más de 80 millones de pobres se exportan 3...\n",
       "2            0  cedimos la banca nacional no puedes competir s...\n",
       "3            0  no está fluyendo el dinero se dice que tienen ...\n",
       "4            0  la cajas de ahorro casi 500 la había creado ad..."
      ]
     },
     "execution_count": 64,
     "metadata": {},
     "output_type": "execute_result"
    }
   ],
   "source": [
    "# Now we can look to something we can work with\n",
    "df.head()"
   ]
  },
  {
   "cell_type": "code",
   "execution_count": 65,
   "metadata": {},
   "outputs": [],
   "source": [
    "# We choose the size of the vocabulary\n",
    "voc_size = 5_000"
   ]
  },
  {
   "cell_type": "markdown",
   "metadata": {},
   "source": []
  },
  {
   "cell_type": "code",
   "execution_count": 66,
   "metadata": {},
   "outputs": [],
   "source": [
    "X = df.drop(\"Renaissance\", axis=1)\n",
    "y = df[\"Renaissance\"]"
   ]
  },
  {
   "cell_type": "code",
   "execution_count": 73,
   "metadata": {},
   "outputs": [],
   "source": [
    "# Now we need to append the sentences to one single corpus\n",
    "for i in range(0, X.shape[0]):\n",
    "    corpus.append(X[\"Text\"][i])"
   ]
  },
  {
   "cell_type": "code",
   "execution_count": 75,
   "metadata": {},
   "outputs": [
    {
     "data": {
      "text/plain": [
       "['el tlc no sirvió a méxico lo incrustaron ni siquiera lo consultaron',\n",
       " 'hay más de 80 millones de pobres se exportan 30 millones de mexicano por que no hay trabajo',\n",
       " 'cedimos la banca nacional no puedes competir si no tienes banca el 92 de la banca e extranjera brasil y china le deben su éxito a que su banca en nacional',\n",
       " 'no está fluyendo el dinero se dice que tienen 180 billones de dólares de reserva pero no se están usando',\n",
       " 'la cajas de ahorro casi 500 la había creado adriana salina de gortari y quebraron',\n",
       " 'luego no metieron al aspan asociación de prosperidad y seguridad de norte américa que hizo fox a espaldas de la nación',\n",
       " 'estamos en un momento sumamente militar',\n",
       " 'con trump y su política proteccionista ya de facto dice que el modelo neoliberal está muerto',\n",
       " 'existe una globalización digital que está sustituyendo la globalización mercantilista y la globalización financiera',\n",
       " 'pareciera que no existen instrumentos ciudadanos de cogobierno en el siglo xxi e decir no podemos quedarnos con la mismas estructuras de separación como el ejecutivo legislativo y judicial por que empiezan en 1917 y andan tambaleándose en el xxi por eso la crisis de a clase política y de la democracia',\n",
       " 'la mentira que mejor publicidad tenga e la que va a ganar',\n",
       " 'por desgracia tenemos la espada de damocles por que van a explotar esa falla de la democracia para un mayor militarismo',\n",
       " 'the economist financial time que son de los rothschild the guardian ligado a soros',\n",
       " 'existe un armamentismo de la información y de la desinformación',\n",
       " 'la hiperconectividad en la esfera de la información se convirtió en el espacio competitivo más congestionado y peleado ya que gracias a internet el público puede identificar a persona con los mismos valores e intercambiar idea cuando los gobiernos no son sencillamente parte de esas conversaciones',\n",
       " 'gerge kenan en los 60’s dijo la verdad e a veces un pobre competidor en el mercado de la idea complicada insatisfactoria llena de dilemas siempre vulnerable a la malas interpretaciones y al abuso',\n",
       " 'wachovia bank lavaba 125 mmdd en méxico al año al igual que standard bank',\n",
       " 'crowe la guerra con alemania era inevitable por parte de gran bretaña',\n",
       " 'la primera plaza de trading e hong kong',\n",
       " 'la ruptura de europa con eu va a ser dolorosa']"
      ]
     },
     "execution_count": 75,
     "metadata": {},
     "output_type": "execute_result"
    }
   ],
   "source": [
    "corpus[0:20]"
   ]
  },
  {
   "cell_type": "code",
   "execution_count": 76,
   "metadata": {},
   "outputs": [
    {
     "data": {
      "text/plain": [
       "[317, 2425, 714, 2208, 2273, 1528, 4898, 3303, 4829, 2999, 4898, 4574]"
      ]
     },
     "execution_count": 76,
     "metadata": {},
     "output_type": "execute_result"
    }
   ],
   "source": [
    "# One-hot representation, we want the index based on the vocabulary size\n",
    "onehot_repr = [one_hot(words,voc_size)for words in corpus] \n",
    "onehot_repr[0]"
   ]
  },
  {
   "cell_type": "markdown",
   "metadata": {},
   "source": [
    "> The vector formed from the one-hot representation, describes in a numerical way the words of the first statement, only the first row"
   ]
  },
  {
   "cell_type": "code",
   "execution_count": 77,
   "metadata": {},
   "outputs": [
    {
     "data": {
      "text/plain": [
       "array([   0,    0,    0,    0,    0,    0,    0,    0,    0,    0,    0,\n",
       "          0,    0,    0,    0,    0,    0,    0,    0,    0,    0,    0,\n",
       "          0,    0,    0,    0,    0,    0,    0,    0,    0,    0,    0,\n",
       "          0,    0,    0,    0,    0,    0,    0,    0,    0,    0,    0,\n",
       "          0,    0,    0,    0,  317, 2425,  714, 2208, 2273, 1528, 4898,\n",
       "       3303, 4829, 2999, 4898, 4574], dtype=int32)"
      ]
     },
     "execution_count": 77,
     "metadata": {},
     "output_type": "execute_result"
    }
   ],
   "source": [
    "# EMBEDDING REPRESENTATION\n",
    "# Making the sentences a fixed length\n",
    "sent_length = 60\n",
    "embedded_docs = pad_sequences(onehot_repr,padding='pre',maxlen=sent_length)\n",
    "embedded_docs[0]"
   ]
  },
  {
   "cell_type": "code",
   "execution_count": 79,
   "metadata": {},
   "outputs": [],
   "source": [
    "X_train, X_test, y_train, y_test = train_test_split(embedded_docs, y.values, test_size=0.33, random_state=42)"
   ]
  },
  {
   "cell_type": "code",
   "execution_count": 78,
   "metadata": {},
   "outputs": [
    {
     "name": "stdout",
     "output_type": "stream",
     "text": [
      "Model: \"sequential\"\n",
      "_________________________________________________________________\n",
      "Layer (type)                 Output Shape              Param #   \n",
      "=================================================================\n",
      "embedding (Embedding)        (None, 60, 40)            200000    \n",
      "_________________________________________________________________\n",
      "lstm (LSTM)                  (None, 100)               56400     \n",
      "_________________________________________________________________\n",
      "dense (Dense)                (None, 1)                 101       \n",
      "=================================================================\n",
      "Total params: 256,501\n",
      "Trainable params: 256,501\n",
      "Non-trainable params: 0\n",
      "_________________________________________________________________\n",
      "None\n"
     ]
    }
   ],
   "source": [
    "# Actually creating the model, first trial\n",
    "embedding_vector_features = 40\n",
    "model = Sequential()\n",
    "model.add(Embedding(voc_size,embedding_vector_features,input_length=sent_length))\n",
    "model.add(LSTM(100))\n",
    "model.add(Dense(1,activation='sigmoid'))\n",
    "model.compile(loss='binary_crossentropy',optimizer='adam',metrics=['accuracy'])\n",
    "print(model.summary())"
   ]
  },
  {
   "cell_type": "markdown",
   "metadata": {},
   "source": [
    "> This model uses a Recurrent Neural Network in its variation of LSTM (Long Short Term Memory Network), it contains 100 neurons and one output neuron having the probability answer"
   ]
  },
  {
   "cell_type": "markdown",
   "metadata": {},
   "source": [
    "### Model Training"
   ]
  },
  {
   "cell_type": "code",
   "execution_count": 80,
   "metadata": {},
   "outputs": [
    {
     "name": "stdout",
     "output_type": "stream",
     "text": [
      "Train on 312 samples, validate on 154 samples\n",
      "Epoch 1/20\n",
      "312/312 [==============================] - 5s 17ms/sample - loss: 0.6878 - accuracy: 0.6186 - val_loss: 0.6778 - val_accuracy: 0.6039\n",
      "Epoch 2/20\n",
      "312/312 [==============================] - 1s 4ms/sample - loss: 0.6544 - accuracy: 0.6410 - val_loss: 0.7014 - val_accuracy: 0.6039\n",
      "Epoch 3/20\n",
      "312/312 [==============================] - 1s 4ms/sample - loss: 0.6476 - accuracy: 0.6410 - val_loss: 0.6677 - val_accuracy: 0.6039\n",
      "Epoch 4/20\n",
      "312/312 [==============================] - 1s 4ms/sample - loss: 0.6334 - accuracy: 0.6410 - val_loss: 0.6638 - val_accuracy: 0.6039\n",
      "Epoch 5/20\n",
      "312/312 [==============================] - 1s 4ms/sample - loss: 0.5991 - accuracy: 0.6410 - val_loss: 0.6753 - val_accuracy: 0.6039\n",
      "Epoch 6/20\n",
      "312/312 [==============================] - 1s 4ms/sample - loss: 0.5441 - accuracy: 0.6442 - val_loss: 0.6445 - val_accuracy: 0.6169\n",
      "Epoch 7/20\n",
      "312/312 [==============================] - 1s 4ms/sample - loss: 0.4456 - accuracy: 0.8045 - val_loss: 0.6716 - val_accuracy: 0.6623\n",
      "Epoch 8/20\n",
      "312/312 [==============================] - 1s 4ms/sample - loss: 0.3224 - accuracy: 0.9135 - val_loss: 0.8321 - val_accuracy: 0.7013\n",
      "Epoch 9/20\n",
      "312/312 [==============================] - 1s 4ms/sample - loss: 0.2583 - accuracy: 0.9744 - val_loss: 0.8787 - val_accuracy: 0.5584\n",
      "Epoch 10/20\n",
      "312/312 [==============================] - 1s 4ms/sample - loss: 0.1510 - accuracy: 0.9712 - val_loss: 1.0068 - val_accuracy: 0.7143\n",
      "Epoch 11/20\n",
      "312/312 [==============================] - 1s 4ms/sample - loss: 0.1077 - accuracy: 0.9904 - val_loss: 1.1343 - val_accuracy: 0.7013\n",
      "Epoch 12/20\n",
      "312/312 [==============================] - 1s 4ms/sample - loss: 0.0600 - accuracy: 0.9968 - val_loss: 1.0850 - val_accuracy: 0.6818\n",
      "Epoch 13/20\n",
      "312/312 [==============================] - 1s 4ms/sample - loss: 0.0714 - accuracy: 0.9936 - val_loss: 0.8783 - val_accuracy: 0.6948\n",
      "Epoch 14/20\n",
      "312/312 [==============================] - 1s 4ms/sample - loss: 0.0321 - accuracy: 1.0000 - val_loss: 1.1194 - val_accuracy: 0.6948\n",
      "Epoch 15/20\n",
      "312/312 [==============================] - 1s 4ms/sample - loss: 0.0394 - accuracy: 0.9968 - val_loss: 0.8473 - val_accuracy: 0.6818\n",
      "Epoch 16/20\n",
      "312/312 [==============================] - 1s 4ms/sample - loss: 0.1406 - accuracy: 0.9455 - val_loss: 0.7885 - val_accuracy: 0.6818\n",
      "Epoch 17/20\n",
      "312/312 [==============================] - 1s 4ms/sample - loss: 0.1962 - accuracy: 0.9679 - val_loss: 0.7416 - val_accuracy: 0.5260\n",
      "Epoch 18/20\n",
      "312/312 [==============================] - 1s 4ms/sample - loss: 0.4160 - accuracy: 0.7853 - val_loss: 0.7322 - val_accuracy: 0.5519\n",
      "Epoch 19/20\n",
      "312/312 [==============================] - 1s 4ms/sample - loss: 0.4061 - accuracy: 0.8301 - val_loss: 0.7179 - val_accuracy: 0.5390\n",
      "Epoch 20/20\n",
      "312/312 [==============================] - 1s 4ms/sample - loss: 0.3637 - accuracy: 0.8942 - val_loss: 0.7033 - val_accuracy: 0.5519\n"
     ]
    },
    {
     "data": {
      "text/plain": [
       "<tensorflow.python.keras.callbacks.History at 0x1a512fba50>"
      ]
     },
     "execution_count": 80,
     "metadata": {},
     "output_type": "execute_result"
    }
   ],
   "source": [
    "model.fit(X_train,y_train,validation_data=(X_test,y_test),epochs=20,batch_size=50)"
   ]
  },
  {
   "cell_type": "code",
   "execution_count": 81,
   "metadata": {},
   "outputs": [
    {
     "name": "stdout",
     "output_type": "stream",
     "text": [
      "              precision    recall  f1-score   support\n",
      "\n",
      "           0       0.66      0.54      0.59        93\n",
      "           1       0.45      0.57      0.50        61\n",
      "\n",
      "    accuracy                           0.55       154\n",
      "   macro avg       0.55      0.56      0.55       154\n",
      "weighted avg       0.58      0.55      0.56       154\n",
      "\n"
     ]
    }
   ],
   "source": [
    "y_pred=model.predict_classes(X_test)\n",
    "confusion_matrix(y_test,y_pred)\n",
    "accuracy_score(y_test,y_pred)\n",
    "print(classification_report(y_test,y_pred))"
   ]
  },
  {
   "cell_type": "markdown",
   "metadata": {},
   "source": [
    "**With this model we get 55% of accuracy**"
   ]
  },
  {
   "cell_type": "markdown",
   "metadata": {},
   "source": [
    "### We can do better by changing the architecture of the LSTM"
   ]
  },
  {
   "cell_type": "code",
   "execution_count": 82,
   "metadata": {
    "scrolled": true
   },
   "outputs": [
    {
     "name": "stdout",
     "output_type": "stream",
     "text": [
      "Model: \"sequential_1\"\n",
      "_________________________________________________________________\n",
      "Layer (type)                 Output Shape              Param #   \n",
      "=================================================================\n",
      "embedding_1 (Embedding)      (None, 60, 40)            200000    \n",
      "_________________________________________________________________\n",
      "bidirectional (Bidirectional (None, 200)               112800    \n",
      "_________________________________________________________________\n",
      "dropout (Dropout)            (None, 200)               0         \n",
      "_________________________________________________________________\n",
      "dense_1 (Dense)              (None, 1)                 201       \n",
      "=================================================================\n",
      "Total params: 313,001\n",
      "Trainable params: 313,001\n",
      "Non-trainable params: 0\n",
      "_________________________________________________________________\n",
      "None\n"
     ]
    }
   ],
   "source": [
    "model=Sequential()\n",
    "model.add(Embedding(voc_size,embedding_vector_features,input_length=sent_length))\n",
    "model.add(Bidirectional(LSTM(100))) # one lstm layer with 100 neurons\n",
    "model.add(Dropout(0.3))\n",
    "model.add(Dense(1,activation='sigmoid'))\n",
    "model.compile(loss='binary_crossentropy',optimizer='adam',metrics=['accuracy'])\n",
    "print(model.summary())"
   ]
  },
  {
   "cell_type": "code",
   "execution_count": 83,
   "metadata": {},
   "outputs": [
    {
     "name": "stdout",
     "output_type": "stream",
     "text": [
      "Train on 312 samples, validate on 154 samples\n",
      "Epoch 1/20\n",
      "312/312 [==============================] - 7s 23ms/sample - loss: 0.6804 - accuracy: 0.6090 - val_loss: 0.6717 - val_accuracy: 0.6039\n",
      "Epoch 2/20\n",
      "312/312 [==============================] - 1s 5ms/sample - loss: 0.6518 - accuracy: 0.6410 - val_loss: 0.6810 - val_accuracy: 0.6039\n",
      "Epoch 3/20\n",
      "312/312 [==============================] - 1s 5ms/sample - loss: 0.6454 - accuracy: 0.6410 - val_loss: 0.6651 - val_accuracy: 0.6039\n",
      "Epoch 4/20\n",
      "312/312 [==============================] - 2s 5ms/sample - loss: 0.6167 - accuracy: 0.6410 - val_loss: 0.6684 - val_accuracy: 0.6039\n",
      "Epoch 5/20\n",
      "312/312 [==============================] - 1s 5ms/sample - loss: 0.5827 - accuracy: 0.6891 - val_loss: 0.6487 - val_accuracy: 0.6039\n",
      "Epoch 6/20\n",
      "312/312 [==============================] - 1s 4ms/sample - loss: 0.5499 - accuracy: 0.6538 - val_loss: 0.6475 - val_accuracy: 0.6169\n",
      "Epoch 7/20\n",
      "312/312 [==============================] - 1s 4ms/sample - loss: 0.4420 - accuracy: 0.8013 - val_loss: 0.8229 - val_accuracy: 0.6429\n",
      "Epoch 8/20\n",
      "312/312 [==============================] - 1s 4ms/sample - loss: 0.3337 - accuracy: 0.9006 - val_loss: 0.6694 - val_accuracy: 0.6688\n",
      "Epoch 9/20\n",
      "312/312 [==============================] - 1s 4ms/sample - loss: 0.2216 - accuracy: 0.9776 - val_loss: 0.8288 - val_accuracy: 0.7273\n",
      "Epoch 10/20\n",
      "312/312 [==============================] - 1s 4ms/sample - loss: 0.1477 - accuracy: 0.9872 - val_loss: 0.9560 - val_accuracy: 0.6883\n",
      "Epoch 11/20\n",
      "312/312 [==============================] - 1s 4ms/sample - loss: 0.0946 - accuracy: 0.9872 - val_loss: 2.7525 - val_accuracy: 0.6039\n",
      "Epoch 12/20\n",
      "312/312 [==============================] - 1s 4ms/sample - loss: 0.5881 - accuracy: 0.8333 - val_loss: 0.7254 - val_accuracy: 0.6558\n",
      "Epoch 13/20\n",
      "312/312 [==============================] - 1s 4ms/sample - loss: 0.1093 - accuracy: 0.9936 - val_loss: 0.5950 - val_accuracy: 0.6948\n",
      "Epoch 14/20\n",
      "312/312 [==============================] - 1s 4ms/sample - loss: 0.1307 - accuracy: 0.9968 - val_loss: 0.7101 - val_accuracy: 0.7143\n",
      "Epoch 15/20\n",
      "312/312 [==============================] - 1s 4ms/sample - loss: 0.1036 - accuracy: 0.9968 - val_loss: 0.8498 - val_accuracy: 0.6883\n",
      "Epoch 16/20\n",
      "312/312 [==============================] - 1s 4ms/sample - loss: 0.0713 - accuracy: 1.0000 - val_loss: 0.8969 - val_accuracy: 0.6818\n",
      "Epoch 17/20\n",
      "312/312 [==============================] - 1s 4ms/sample - loss: 0.0388 - accuracy: 0.9968 - val_loss: 0.9756 - val_accuracy: 0.6494\n",
      "Epoch 18/20\n",
      "312/312 [==============================] - 1s 4ms/sample - loss: 0.0438 - accuracy: 0.9968 - val_loss: 1.1589 - val_accuracy: 0.6753\n",
      "Epoch 19/20\n",
      "312/312 [==============================] - 1s 4ms/sample - loss: 0.0539 - accuracy: 0.9936 - val_loss: 1.0389 - val_accuracy: 0.6429\n",
      "Epoch 20/20\n",
      "312/312 [==============================] - 1s 4ms/sample - loss: 0.0190 - accuracy: 1.0000 - val_loss: 1.0562 - val_accuracy: 0.6429\n"
     ]
    },
    {
     "data": {
      "text/plain": [
       "<tensorflow.python.keras.callbacks.History at 0x1a655c0450>"
      ]
     },
     "execution_count": 83,
     "metadata": {},
     "output_type": "execute_result"
    }
   ],
   "source": [
    "model.fit(X_train,y_train,validation_data=(X_test,y_test),epochs=20,batch_size=50)"
   ]
  },
  {
   "cell_type": "code",
   "execution_count": 84,
   "metadata": {},
   "outputs": [
    {
     "name": "stdout",
     "output_type": "stream",
     "text": [
      "              precision    recall  f1-score   support\n",
      "\n",
      "           0       0.73      0.65      0.69        93\n",
      "           1       0.54      0.64      0.59        61\n",
      "\n",
      "    accuracy                           0.64       154\n",
      "   macro avg       0.64      0.64      0.64       154\n",
      "weighted avg       0.66      0.64      0.65       154\n",
      "\n"
     ]
    }
   ],
   "source": [
    "y_pred=model.predict_classes(X_test)\n",
    "confusion_matrix(y_test,y_pred)\n",
    "accuracy_score(y_test,y_pred)\n",
    "print(classification_report(y_test,y_pred))"
   ]
  },
  {
   "cell_type": "markdown",
   "metadata": {},
   "source": [
    "> This model is much better almost increasing its accuracy by 10%"
   ]
  },
  {
   "cell_type": "markdown",
   "metadata": {},
   "source": [
    "## We can stack LSTMs for a better model"
   ]
  },
  {
   "cell_type": "code",
   "execution_count": 85,
   "metadata": {},
   "outputs": [
    {
     "name": "stdout",
     "output_type": "stream",
     "text": [
      "Model: \"sequential_2\"\n",
      "_________________________________________________________________\n",
      "Layer (type)                 Output Shape              Param #   \n",
      "=================================================================\n",
      "embedding_2 (Embedding)      (None, 60, 40)            200000    \n",
      "_________________________________________________________________\n",
      "bidirectional_1 (Bidirection (None, 60, 200)           112800    \n",
      "_________________________________________________________________\n",
      "bidirectional_2 (Bidirection (None, 60, 180)           209520    \n",
      "_________________________________________________________________\n",
      "bidirectional_3 (Bidirection (None, 60, 160)           167040    \n",
      "_________________________________________________________________\n",
      "flatten (Flatten)            (None, 9600)              0         \n",
      "_________________________________________________________________\n",
      "dropout_1 (Dropout)          (None, 9600)              0         \n",
      "_________________________________________________________________\n",
      "dense_2 (Dense)              (None, 1)                 9601      \n",
      "=================================================================\n",
      "Total params: 698,961\n",
      "Trainable params: 698,961\n",
      "Non-trainable params: 0\n",
      "_________________________________________________________________\n",
      "None\n"
     ]
    }
   ],
   "source": [
    "model1 = Sequential()\n",
    "model1.add(Embedding(voc_size,embedding_vector_features,input_length=sent_length))\n",
    "model1.add(Bidirectional(LSTM(100, dropout=0.2, recurrent_dropout=0.2, activation='relu', return_sequences=True)))\n",
    "model1.add(Bidirectional(LSTM(90, dropout=0.2, recurrent_dropout=0.2, activation='relu', return_sequences=True)))\n",
    "model1.add(Bidirectional(LSTM(80, dropout=0.2, recurrent_dropout=0.2, activation='relu', return_sequences=True)))\n",
    "model1.add(Flatten())\n",
    "model1.add(Dropout(0.4))\n",
    "model1.add(Dense(1,activation='sigmoid'))\n",
    "model1.compile(loss='binary_crossentropy',optimizer='adam',metrics=['accuracy'])\n",
    "print(model1.summary())"
   ]
  },
  {
   "cell_type": "code",
   "execution_count": 87,
   "metadata": {},
   "outputs": [
    {
     "name": "stdout",
     "output_type": "stream",
     "text": [
      "Train on 312 samples, validate on 154 samples\n",
      "Epoch 1/20\n",
      "312/312 [==============================] - 21s 69ms/sample - loss: 0.6771 - accuracy: 0.6154 - val_loss: 0.6828 - val_accuracy: 0.6039\n",
      "Epoch 2/20\n",
      "312/312 [==============================] - 5s 17ms/sample - loss: 0.6574 - accuracy: 0.6410 - val_loss: 0.6714 - val_accuracy: 0.6039\n",
      "Epoch 3/20\n",
      "312/312 [==============================] - 5s 17ms/sample - loss: 0.6554 - accuracy: 0.6410 - val_loss: 0.6704 - val_accuracy: 0.6039\n",
      "Epoch 4/20\n",
      "312/312 [==============================] - 5s 16ms/sample - loss: 0.6591 - accuracy: 0.6410 - val_loss: 0.6792 - val_accuracy: 0.6039\n",
      "Epoch 5/20\n",
      "312/312 [==============================] - 5s 16ms/sample - loss: 0.6521 - accuracy: 0.6410 - val_loss: 0.6678 - val_accuracy: 0.6039\n",
      "Epoch 6/20\n",
      "312/312 [==============================] - 5s 16ms/sample - loss: 0.6357 - accuracy: 0.6410 - val_loss: 0.6733 - val_accuracy: 0.6039\n",
      "Epoch 7/20\n",
      "312/312 [==============================] - 5s 16ms/sample - loss: 0.5881 - accuracy: 0.6410 - val_loss: 0.6585 - val_accuracy: 0.6039\n",
      "Epoch 8/20\n",
      "312/312 [==============================] - 5s 16ms/sample - loss: 3485123485.7488 - accuracy: 0.6378 - val_loss: 0.6523 - val_accuracy: 0.6169\n",
      "Epoch 9/20\n",
      "312/312 [==============================] - 5s 16ms/sample - loss: 3703.8019 - accuracy: 0.6763 - val_loss: 0.6609 - val_accuracy: 0.6753\n",
      "Epoch 10/20\n",
      "312/312 [==============================] - 5s 16ms/sample - loss: 0.5924 - accuracy: 0.7276 - val_loss: 0.6625 - val_accuracy: 0.6104\n",
      "Epoch 11/20\n",
      "312/312 [==============================] - 5s 16ms/sample - loss: 0.5841 - accuracy: 0.6410 - val_loss: 0.6523 - val_accuracy: 0.6039\n",
      "Epoch 12/20\n",
      "312/312 [==============================] - 5s 16ms/sample - loss: 0.5549 - accuracy: 0.6410 - val_loss: 0.6446 - val_accuracy: 0.6039\n",
      "Epoch 13/20\n",
      "312/312 [==============================] - 5s 16ms/sample - loss: 0.5185 - accuracy: 0.6410 - val_loss: 0.6381 - val_accuracy: 0.6039\n",
      "Epoch 14/20\n",
      "312/312 [==============================] - 5s 16ms/sample - loss: 0.4825 - accuracy: 0.6442 - val_loss: 0.6280 - val_accuracy: 0.6299\n",
      "Epoch 15/20\n",
      "312/312 [==============================] - 5s 16ms/sample - loss: 0.4241 - accuracy: 0.6987 - val_loss: 0.6235 - val_accuracy: 0.6883\n",
      "Epoch 16/20\n",
      "312/312 [==============================] - 5s 16ms/sample - loss: 0.3438 - accuracy: 0.8974 - val_loss: 0.6424 - val_accuracy: 0.5649\n",
      "Epoch 17/20\n",
      "312/312 [==============================] - 5s 16ms/sample - loss: 1413.3257 - accuracy: 0.9295 - val_loss: 0.6876 - val_accuracy: 0.5455\n",
      "Epoch 18/20\n",
      "312/312 [==============================] - 5s 16ms/sample - loss: 0.3027 - accuracy: 0.8910 - val_loss: 0.6983 - val_accuracy: 0.5519\n",
      "Epoch 19/20\n",
      "312/312 [==============================] - 5s 17ms/sample - loss: 0.2778 - accuracy: 0.9231 - val_loss: 0.6774 - val_accuracy: 0.5714\n",
      "Epoch 20/20\n",
      "312/312 [==============================] - 5s 16ms/sample - loss: 0.2352 - accuracy: 0.9359 - val_loss: 0.6753 - val_accuracy: 0.5714\n"
     ]
    },
    {
     "data": {
      "text/plain": [
       "<tensorflow.python.keras.callbacks.History at 0x1a6ba886d0>"
      ]
     },
     "execution_count": 87,
     "metadata": {},
     "output_type": "execute_result"
    }
   ],
   "source": [
    "# train the new model\n",
    "model1.fit(X_train,y_train,validation_data=(X_test,y_test),epochs=20,batch_size=50)"
   ]
  },
  {
   "cell_type": "code",
   "execution_count": 88,
   "metadata": {},
   "outputs": [
    {
     "name": "stdout",
     "output_type": "stream",
     "text": [
      "              precision    recall  f1-score   support\n",
      "\n",
      "           0       0.69      0.53      0.60        93\n",
      "           1       0.47      0.64      0.54        61\n",
      "\n",
      "    accuracy                           0.57       154\n",
      "   macro avg       0.58      0.58      0.57       154\n",
      "weighted avg       0.60      0.57      0.58       154\n",
      "\n"
     ]
    }
   ],
   "source": [
    "y_pred=model1.predict_classes(X_test)\n",
    "confusion_matrix(y_test,y_pred)\n",
    "accuracy_score(y_test,y_pred)\n",
    "print(classification_report(y_test,y_pred))"
   ]
  },
  {
   "cell_type": "markdown",
   "metadata": {},
   "source": [
    "#### Now that we have 2 models we can use them to predict new statements\n",
    "1. \"El siguiente año el Bitcoin va a seguir subiendo\"\n",
    "2. \"México entra en un nacionalismo puro\"\n",
    "3. \"La deuda del banco central aumenta\""
   ]
  },
  {
   "cell_type": "code",
   "execution_count": 90,
   "metadata": {},
   "outputs": [],
   "source": [
    "# But first we need a function to clean the new statements\n",
    "def preprocess_statement(text):\n",
    "    statement = remove_punct(text)\n",
    "    statement = statement.lower()\n",
    "    statement = remove_stopwords(statement)\n",
    "    statement = lematizer(statement)\n",
    "    statement = one_hot(statement, voc_size)\n",
    "    statement = pad_sequences([statement], padding='pre', maxlen=sent_length)\n",
    "    return statement"
   ]
  },
  {
   "cell_type": "code",
   "execution_count": 91,
   "metadata": {},
   "outputs": [
    {
     "data": {
      "text/plain": [
       "(array([[0.9845977]], dtype=float32), array([[0.7818197]], dtype=float32))"
      ]
     },
     "execution_count": 91,
     "metadata": {},
     "output_type": "execute_result"
    }
   ],
   "source": [
    "model.predict(preprocess_statement(\"El siguiente año el Bitcoin va a seguir subiendo\")), model1.predict(preprocess_statement(\"El siguiente año el Bitcoin va a seguir subiendo\"))"
   ]
  },
  {
   "cell_type": "markdown",
   "metadata": {},
   "source": [
    "* model -> Represents the one with just 100 neurons\n",
    "* model1 -> Its the one with 3 different layers of Bidirectional LSTM's\n",
    "\n",
    "> **Each model returns a value between 0 and 1 which is the probability of being classified as 1, therefore 'model' gives 0.98 and 'model1' sends the value of 0.78 for this particular example, lets evaluate the others**"
   ]
  },
  {
   "cell_type": "code",
   "execution_count": 92,
   "metadata": {},
   "outputs": [
    {
     "data": {
      "text/plain": [
       "(array([[0.8812203]], dtype=float32), array([[0.77170986]], dtype=float32))"
      ]
     },
     "execution_count": 92,
     "metadata": {},
     "output_type": "execute_result"
    }
   ],
   "source": [
    "model.predict(preprocess_statement(\"México entra en un nacionalismo puro\")), model1.predict(preprocess_statement(\"México entra en un nacionalismo puro\"))"
   ]
  },
  {
   "cell_type": "code",
   "execution_count": 93,
   "metadata": {},
   "outputs": [
    {
     "data": {
      "text/plain": [
       "(array([[0.85284084]], dtype=float32), array([[0.77561057]], dtype=float32))"
      ]
     },
     "execution_count": 93,
     "metadata": {},
     "output_type": "execute_result"
    }
   ],
   "source": [
    "model.predict(preprocess_statement(\"La deuda del banco central aumenta\")), model1.predict(preprocess_statement(\"La deuda del banco central aumenta\")) "
   ]
  },
  {
   "cell_type": "code",
   "execution_count": null,
   "metadata": {},
   "outputs": [],
   "source": []
  }
 ],
 "metadata": {
  "kernelspec": {
   "display_name": "Python 3",
   "language": "python",
   "name": "python3"
  },
  "language_info": {
   "codemirror_mode": {
    "name": "ipython",
    "version": 3
   },
   "file_extension": ".py",
   "mimetype": "text/x-python",
   "name": "python",
   "nbconvert_exporter": "python",
   "pygments_lexer": "ipython3",
   "version": "3.7.6"
  }
 },
 "nbformat": 4,
 "nbformat_minor": 4
}
