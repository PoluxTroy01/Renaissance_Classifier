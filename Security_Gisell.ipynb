{
 "cells": [
  {
   "cell_type": "markdown",
   "metadata": {},
   "source": [
    "# Security Prediction Problem"
   ]
  },
  {
   "cell_type": "code",
   "execution_count": 1,
   "metadata": {},
   "outputs": [
    {
     "name": "stderr",
     "output_type": "stream",
     "text": [
      "Using TensorFlow backend.\n"
     ]
    }
   ],
   "source": [
    "# Primero importamos las librerías\n",
    "import pandas as pd\n",
    "import numpy as np\n",
    "import matplotlib.pyplot as plt\n",
    "\n",
    "import tensorflow as tf\n",
    "from tensorflow.keras.layers import Embedding\n",
    "from tensorflow.keras.preprocessing.sequence import pad_sequences\n",
    "from tensorflow.keras.models import Sequential\n",
    "from tensorflow.keras.preprocessing.text import one_hot\n",
    "from tensorflow.keras.layers import LSTM, BatchNormalization\n",
    "from tensorflow.keras.layers import Dense\n",
    "from tensorflow.keras.layers import Bidirectional\n",
    "from tensorflow.keras.layers import Dropout\n",
    "from tensorflow.keras.layers import Flatten\n",
    "from tensorflow.keras.layers import SpatialDropout1D\n",
    "import nltk\n",
    "import re\n",
    "from nltk.corpus import stopwords\n",
    "from nltk.stem.porter import PorterStemmer\n",
    "from nltk.stem import WordNetLemmatizer\n",
    "import string\n",
    "from wordcloud import WordCloud\n",
    "from collections import Counter\n",
    "from sklearn.model_selection import train_test_split\n",
    "from sklearn.metrics import confusion_matrix\n",
    "from sklearn.metrics import accuracy_score\n",
    "from sklearn.metrics import classification_report\n",
    "from keras.callbacks import EarlyStopping\n",
    "\n",
    "%matplotlib inline"
   ]
  },
  {
   "cell_type": "markdown",
   "metadata": {},
   "source": [
    "#### El archivo original es el siguiente"
   ]
  },
  {
   "cell_type": "code",
   "execution_count": 2,
   "metadata": {},
   "outputs": [],
   "source": [
    "df = pd.read_excel(\"Gisell.xlsx\")"
   ]
  },
  {
   "cell_type": "code",
   "execution_count": 3,
   "metadata": {},
   "outputs": [
    {
     "data": {
      "text/html": [
       "<div>\n",
       "<style scoped>\n",
       "    .dataframe tbody tr th:only-of-type {\n",
       "        vertical-align: middle;\n",
       "    }\n",
       "\n",
       "    .dataframe tbody tr th {\n",
       "        vertical-align: top;\n",
       "    }\n",
       "\n",
       "    .dataframe thead th {\n",
       "        text-align: right;\n",
       "    }\n",
       "</style>\n",
       "<table border=\"1\" class=\"dataframe\">\n",
       "  <thead>\n",
       "    <tr style=\"text-align: right;\">\n",
       "      <th></th>\n",
       "      <th>Renaissance</th>\n",
       "      <th>Antagonismo</th>\n",
       "      <th>Intensidad</th>\n",
       "      <th>Text</th>\n",
       "    </tr>\n",
       "  </thead>\n",
       "  <tbody>\n",
       "    <tr>\n",
       "      <th>0</th>\n",
       "      <td>0.0</td>\n",
       "      <td>Nacional</td>\n",
       "      <td>2</td>\n",
       "      <td>El TLC no sirvió, a México lo incrustaron, ni ...</td>\n",
       "    </tr>\n",
       "    <tr>\n",
       "      <th>1</th>\n",
       "      <td>0.0</td>\n",
       "      <td>Público</td>\n",
       "      <td>2</td>\n",
       "      <td>Hay más de 80 millones de pobres, se exportan ...</td>\n",
       "    </tr>\n",
       "    <tr>\n",
       "      <th>2</th>\n",
       "      <td>0.0</td>\n",
       "      <td>Nacional</td>\n",
       "      <td>3</td>\n",
       "      <td>Cedimos la banca nacional, no puedes competir ...</td>\n",
       "    </tr>\n",
       "    <tr>\n",
       "      <th>3</th>\n",
       "      <td>0.0</td>\n",
       "      <td>Interior</td>\n",
       "      <td>2</td>\n",
       "      <td>No está fluyendo el dinero, se dice que tienen...</td>\n",
       "    </tr>\n",
       "    <tr>\n",
       "      <th>4</th>\n",
       "      <td>0.0</td>\n",
       "      <td>Público</td>\n",
       "      <td>1</td>\n",
       "      <td>Las cajas de ahorro (casi 500) las había cread...</td>\n",
       "    </tr>\n",
       "  </tbody>\n",
       "</table>\n",
       "</div>"
      ],
      "text/plain": [
       "   Renaissance Antagonismo  Intensidad  \\\n",
       "0          0.0    Nacional           2   \n",
       "1          0.0     Público           2   \n",
       "2          0.0    Nacional           3   \n",
       "3          0.0    Interior           2   \n",
       "4          0.0     Público           1   \n",
       "\n",
       "                                                Text  \n",
       "0  El TLC no sirvió, a México lo incrustaron, ni ...  \n",
       "1  Hay más de 80 millones de pobres, se exportan ...  \n",
       "2  Cedimos la banca nacional, no puedes competir ...  \n",
       "3  No está fluyendo el dinero, se dice que tienen...  \n",
       "4  Las cajas de ahorro (casi 500) las había cread...  "
      ]
     },
     "execution_count": 3,
     "metadata": {},
     "output_type": "execute_result"
    }
   ],
   "source": [
    "df.head()"
   ]
  },
  {
   "cell_type": "markdown",
   "metadata": {},
   "source": [
    "> **\"Renaissance\"** es una variable binaria propuesta para una futura variable de Seguridad donde ayude a la sinergia de las variables **\"Antagonismo\"** e **\"Intensidad\"**.\n",
    "\n",
    "> **\"Antagonismo\"**: Contiene la clasificación de las amenazas a analizar.\n",
    "\n",
    "> **\"Intensidad\"**: Representa el grado de amenaza de cada una de las variantes de la variable antagónica.\n",
    "\n",
    "> **\"Text\"**: Declaraciones de diversas fuentes y la variable independiente a analizar.\n",
    "\n",
    "Se creará una nueva variable: **\"Security\"** y se eliminará la variable binaria."
   ]
  },
  {
   "cell_type": "code",
   "execution_count": 5,
   "metadata": {},
   "outputs": [],
   "source": [
    "df.drop(\"Renaissance\", axis=1, inplace=True)"
   ]
  },
  {
   "cell_type": "code",
   "execution_count": 6,
   "metadata": {},
   "outputs": [
    {
     "data": {
      "text/html": [
       "<div>\n",
       "<style scoped>\n",
       "    .dataframe tbody tr th:only-of-type {\n",
       "        vertical-align: middle;\n",
       "    }\n",
       "\n",
       "    .dataframe tbody tr th {\n",
       "        vertical-align: top;\n",
       "    }\n",
       "\n",
       "    .dataframe thead th {\n",
       "        text-align: right;\n",
       "    }\n",
       "</style>\n",
       "<table border=\"1\" class=\"dataframe\">\n",
       "  <thead>\n",
       "    <tr style=\"text-align: right;\">\n",
       "      <th></th>\n",
       "      <th>Antagonismo</th>\n",
       "      <th>Intensidad</th>\n",
       "      <th>Text</th>\n",
       "    </tr>\n",
       "  </thead>\n",
       "  <tbody>\n",
       "    <tr>\n",
       "      <th>0</th>\n",
       "      <td>Nacional</td>\n",
       "      <td>2</td>\n",
       "      <td>El TLC no sirvió, a México lo incrustaron, ni ...</td>\n",
       "    </tr>\n",
       "    <tr>\n",
       "      <th>1</th>\n",
       "      <td>Público</td>\n",
       "      <td>2</td>\n",
       "      <td>Hay más de 80 millones de pobres, se exportan ...</td>\n",
       "    </tr>\n",
       "    <tr>\n",
       "      <th>2</th>\n",
       "      <td>Nacional</td>\n",
       "      <td>3</td>\n",
       "      <td>Cedimos la banca nacional, no puedes competir ...</td>\n",
       "    </tr>\n",
       "    <tr>\n",
       "      <th>3</th>\n",
       "      <td>Interior</td>\n",
       "      <td>2</td>\n",
       "      <td>No está fluyendo el dinero, se dice que tienen...</td>\n",
       "    </tr>\n",
       "    <tr>\n",
       "      <th>4</th>\n",
       "      <td>Público</td>\n",
       "      <td>1</td>\n",
       "      <td>Las cajas de ahorro (casi 500) las había cread...</td>\n",
       "    </tr>\n",
       "  </tbody>\n",
       "</table>\n",
       "</div>"
      ],
      "text/plain": [
       "  Antagonismo  Intensidad                                               Text\n",
       "0    Nacional           2  El TLC no sirvió, a México lo incrustaron, ni ...\n",
       "1     Público           2  Hay más de 80 millones de pobres, se exportan ...\n",
       "2    Nacional           3  Cedimos la banca nacional, no puedes competir ...\n",
       "3    Interior           2  No está fluyendo el dinero, se dice que tienen...\n",
       "4     Público           1  Las cajas de ahorro (casi 500) las había cread..."
      ]
     },
     "execution_count": 6,
     "metadata": {},
     "output_type": "execute_result"
    }
   ],
   "source": [
    "df.head()"
   ]
  },
  {
   "cell_type": "code",
   "execution_count": 7,
   "metadata": {},
   "outputs": [],
   "source": [
    "conditions = [\n",
    "    (df[\"Antagonismo\"] == \"Nacional\") & (df[\"Intensidad\"] == 3),\n",
    "    (df[\"Antagonismo\"] == \"Nacional\") & (df[\"Intensidad\"] == 2),\n",
    "    (df[\"Antagonismo\"] == \"Nacional\") & (df[\"Intensidad\"] == 1),\n",
    "    (df[\"Antagonismo\"] == \"Interior\") & (df[\"Intensidad\"] == 3),\n",
    "    (df[\"Antagonismo\"] == \"Interior\") & (df[\"Intensidad\"] == 2),\n",
    "    (df[\"Antagonismo\"] == \"Interior\") & (df[\"Intensidad\"] == 1),\n",
    "    (df[\"Antagonismo\"] == \"Público\") & (df[\"Intensidad\"] == 3),\n",
    "    (df[\"Antagonismo\"] == \"Público\") & (df[\"Intensidad\"] == 2),\n",
    "    (df[\"Antagonismo\"] == \"Público\") & (df[\"Intensidad\"] == 1)\n",
    "]\n",
    "# cambiando valores\n",
    "values = [9,8,7,6,5,4,3,2,1]"
   ]
  },
  {
   "cell_type": "code",
   "execution_count": 8,
   "metadata": {},
   "outputs": [],
   "source": [
    "df[\"Security\"] = np.select(conditions, values)"
   ]
  },
  {
   "cell_type": "code",
   "execution_count": 9,
   "metadata": {},
   "outputs": [
    {
     "data": {
      "text/html": [
       "<div>\n",
       "<style scoped>\n",
       "    .dataframe tbody tr th:only-of-type {\n",
       "        vertical-align: middle;\n",
       "    }\n",
       "\n",
       "    .dataframe tbody tr th {\n",
       "        vertical-align: top;\n",
       "    }\n",
       "\n",
       "    .dataframe thead th {\n",
       "        text-align: right;\n",
       "    }\n",
       "</style>\n",
       "<table border=\"1\" class=\"dataframe\">\n",
       "  <thead>\n",
       "    <tr style=\"text-align: right;\">\n",
       "      <th></th>\n",
       "      <th>Antagonismo</th>\n",
       "      <th>Intensidad</th>\n",
       "      <th>Text</th>\n",
       "      <th>Security</th>\n",
       "    </tr>\n",
       "  </thead>\n",
       "  <tbody>\n",
       "    <tr>\n",
       "      <th>0</th>\n",
       "      <td>Nacional</td>\n",
       "      <td>2</td>\n",
       "      <td>El TLC no sirvió, a México lo incrustaron, ni ...</td>\n",
       "      <td>8</td>\n",
       "    </tr>\n",
       "    <tr>\n",
       "      <th>1</th>\n",
       "      <td>Público</td>\n",
       "      <td>2</td>\n",
       "      <td>Hay más de 80 millones de pobres, se exportan ...</td>\n",
       "      <td>2</td>\n",
       "    </tr>\n",
       "    <tr>\n",
       "      <th>2</th>\n",
       "      <td>Nacional</td>\n",
       "      <td>3</td>\n",
       "      <td>Cedimos la banca nacional, no puedes competir ...</td>\n",
       "      <td>9</td>\n",
       "    </tr>\n",
       "    <tr>\n",
       "      <th>3</th>\n",
       "      <td>Interior</td>\n",
       "      <td>2</td>\n",
       "      <td>No está fluyendo el dinero, se dice que tienen...</td>\n",
       "      <td>5</td>\n",
       "    </tr>\n",
       "    <tr>\n",
       "      <th>4</th>\n",
       "      <td>Público</td>\n",
       "      <td>1</td>\n",
       "      <td>Las cajas de ahorro (casi 500) las había cread...</td>\n",
       "      <td>1</td>\n",
       "    </tr>\n",
       "  </tbody>\n",
       "</table>\n",
       "</div>"
      ],
      "text/plain": [
       "  Antagonismo  Intensidad                                               Text  \\\n",
       "0    Nacional           2  El TLC no sirvió, a México lo incrustaron, ni ...   \n",
       "1     Público           2  Hay más de 80 millones de pobres, se exportan ...   \n",
       "2    Nacional           3  Cedimos la banca nacional, no puedes competir ...   \n",
       "3    Interior           2  No está fluyendo el dinero, se dice que tienen...   \n",
       "4     Público           1  Las cajas de ahorro (casi 500) las había cread...   \n",
       "\n",
       "   Security  \n",
       "0         8  \n",
       "1         2  \n",
       "2         9  \n",
       "3         5  \n",
       "4         1  "
      ]
     },
     "execution_count": 9,
     "metadata": {},
     "output_type": "execute_result"
    }
   ],
   "source": [
    "df.head()"
   ]
  },
  {
   "cell_type": "code",
   "execution_count": 11,
   "metadata": {},
   "outputs": [
    {
     "data": {
      "text/plain": [
       "8    196\n",
       "7    153\n",
       "9     76\n",
       "6     68\n",
       "5     53\n",
       "4     11\n",
       "3      8\n",
       "2      8\n",
       "0      4\n",
       "1      3\n",
       "Name: Security, dtype: int64"
      ]
     },
     "execution_count": 11,
     "metadata": {},
     "output_type": "execute_result"
    }
   ],
   "source": [
    "# Numero de ejemplos en cada una de las clasificaciones.\n",
    "df[\"Security\"].value_counts()"
   ]
  },
  {
   "cell_type": "code",
   "execution_count": 12,
   "metadata": {},
   "outputs": [
    {
     "name": "stdout",
     "output_type": "stream",
     "text": [
      "<class 'pandas.core.frame.DataFrame'>\n",
      "RangeIndex: 580 entries, 0 to 579\n",
      "Data columns (total 4 columns):\n",
      " #   Column       Non-Null Count  Dtype \n",
      "---  ------       --------------  ----- \n",
      " 0   Antagonismo  580 non-null    object\n",
      " 1   Intensidad   580 non-null    int64 \n",
      " 2   Text         580 non-null    object\n",
      " 3   Security     580 non-null    int64 \n",
      "dtypes: int64(2), object(2)\n",
      "memory usage: 18.2+ KB\n"
     ]
    }
   ],
   "source": [
    "df.info()"
   ]
  },
  {
   "cell_type": "code",
   "execution_count": null,
   "metadata": {},
   "outputs": [],
   "source": [
    "# Guardamos el archivo en formato CSV\n",
    "df.to_csv(\"Gisell.csv\", index=False)"
   ]
  },
  {
   "cell_type": "markdown",
   "metadata": {},
   "source": [
    "## Importamos el archivo nuevo y preparamos el texto."
   ]
  },
  {
   "cell_type": "code",
   "execution_count": 13,
   "metadata": {},
   "outputs": [],
   "source": [
    "df = pd.read_csv(\"Gisell.csv\")"
   ]
  },
  {
   "cell_type": "code",
   "execution_count": 14,
   "metadata": {},
   "outputs": [
    {
     "data": {
      "text/html": [
       "<div>\n",
       "<style scoped>\n",
       "    .dataframe tbody tr th:only-of-type {\n",
       "        vertical-align: middle;\n",
       "    }\n",
       "\n",
       "    .dataframe tbody tr th {\n",
       "        vertical-align: top;\n",
       "    }\n",
       "\n",
       "    .dataframe thead th {\n",
       "        text-align: right;\n",
       "    }\n",
       "</style>\n",
       "<table border=\"1\" class=\"dataframe\">\n",
       "  <thead>\n",
       "    <tr style=\"text-align: right;\">\n",
       "      <th></th>\n",
       "      <th>Antagonismo</th>\n",
       "      <th>Intensidad</th>\n",
       "      <th>Text</th>\n",
       "      <th>Security</th>\n",
       "    </tr>\n",
       "  </thead>\n",
       "  <tbody>\n",
       "    <tr>\n",
       "      <th>0</th>\n",
       "      <td>Nacional</td>\n",
       "      <td>2</td>\n",
       "      <td>El TLC no sirvió, a México lo incrustaron, ni ...</td>\n",
       "      <td>8</td>\n",
       "    </tr>\n",
       "    <tr>\n",
       "      <th>1</th>\n",
       "      <td>Público</td>\n",
       "      <td>2</td>\n",
       "      <td>Hay más de 80 millones de pobres, se exportan ...</td>\n",
       "      <td>2</td>\n",
       "    </tr>\n",
       "    <tr>\n",
       "      <th>2</th>\n",
       "      <td>Nacional</td>\n",
       "      <td>3</td>\n",
       "      <td>Cedimos la banca nacional, no puedes competir ...</td>\n",
       "      <td>9</td>\n",
       "    </tr>\n",
       "    <tr>\n",
       "      <th>3</th>\n",
       "      <td>Interior</td>\n",
       "      <td>2</td>\n",
       "      <td>No está fluyendo el dinero, se dice que tienen...</td>\n",
       "      <td>5</td>\n",
       "    </tr>\n",
       "    <tr>\n",
       "      <th>4</th>\n",
       "      <td>Público</td>\n",
       "      <td>1</td>\n",
       "      <td>Las cajas de ahorro (casi 500) las había cread...</td>\n",
       "      <td>1</td>\n",
       "    </tr>\n",
       "  </tbody>\n",
       "</table>\n",
       "</div>"
      ],
      "text/plain": [
       "  Antagonismo  Intensidad                                               Text  \\\n",
       "0    Nacional           2  El TLC no sirvió, a México lo incrustaron, ni ...   \n",
       "1     Público           2  Hay más de 80 millones de pobres, se exportan ...   \n",
       "2    Nacional           3  Cedimos la banca nacional, no puedes competir ...   \n",
       "3    Interior           2  No está fluyendo el dinero, se dice que tienen...   \n",
       "4     Público           1  Las cajas de ahorro (casi 500) las había cread...   \n",
       "\n",
       "   Security  \n",
       "0         8  \n",
       "1         2  \n",
       "2         9  \n",
       "3         5  \n",
       "4         1  "
      ]
     },
     "execution_count": 14,
     "metadata": {},
     "output_type": "execute_result"
    }
   ],
   "source": [
    "df.head()"
   ]
  },
  {
   "cell_type": "markdown",
   "metadata": {},
   "source": [
    "### Ya que el modelo no puede recbir datos no estructurados es necesario encontrar una representación de las palabras en un espacio vectorial correcto para su manipulación, es decir, que el texto mantenga sus características  en una representación numérica"
   ]
  },
  {
   "cell_type": "code",
   "execution_count": 15,
   "metadata": {},
   "outputs": [],
   "source": [
    "def create_corpus(df, target):\n",
    "    corpus = []\n",
    "    for i in df[df[\"Renaissance\"] == target].Text.str.split():\n",
    "        for j in i:\n",
    "            corpus.append(j)\n",
    "    return corpus\n",
    "\n",
    "# Removing punctuation\n",
    "def remove_punct(text):\n",
    "    table = str.maketrans(\"\", \"\", string.punctuation)\n",
    "    return text.translate(table)\n",
    "\n",
    "# Removing the stopwords\n",
    "def remove_stopwords(text):\n",
    "    text = [word.lower() for word in text.split() if word.lower() not in stop]\n",
    "    return \" \".join(text)\n",
    "\n",
    "def lematizer(text):\n",
    "    text = [wordnet.lemmatize(word) for word in text.split()]\n",
    "    return \" \".join(text)"
   ]
  },
  {
   "cell_type": "code",
   "execution_count": 16,
   "metadata": {},
   "outputs": [],
   "source": [
    "df[\"Text\"] = df[\"Text\"].map(remove_punct)"
   ]
  },
  {
   "cell_type": "code",
   "execution_count": 18,
   "metadata": {},
   "outputs": [],
   "source": [
    "df[\"Text\"] = df[\"Text\"].map(lambda x: x.lower())"
   ]
  },
  {
   "cell_type": "code",
   "execution_count": 22,
   "metadata": {},
   "outputs": [],
   "source": [
    "wordnet = WordNetLemmatizer()\n",
    "corpus = []\n",
    "# In this case we preserve the stop words since the statements in the Text don't have the length of a full article\n",
    "df[\"Text\"] = df.Text.apply(lematizer)"
   ]
  },
  {
   "cell_type": "markdown",
   "metadata": {},
   "source": [
    "> Debido a que los datos no están balanceados se añadirá una nueva variable que representará un peso adicional en el modelo, este peso dependerá de la cantidad de elementos existentes en cada clasificación."
   ]
  },
  {
   "cell_type": "code",
   "execution_count": 24,
   "metadata": {},
   "outputs": [],
   "source": [
    "from sklearn.utils import class_weight"
   ]
  },
  {
   "cell_type": "code",
   "execution_count": 25,
   "metadata": {},
   "outputs": [],
   "source": [
    "class_weights = list(class_weight.compute_class_weight('balanced',\n",
    "                                                       np.unique(df[\"Security\"]),\n",
    "                                                       df[\"Security\"]))"
   ]
  },
  {
   "cell_type": "code",
   "execution_count": 26,
   "metadata": {},
   "outputs": [
    {
     "data": {
      "text/plain": [
       "[16.11111111111111,\n",
       " 8.055555555555555,\n",
       " 8.055555555555555,\n",
       " 5.858585858585859,\n",
       " 1.1934156378600822,\n",
       " 0.9477124183006536,\n",
       " 0.4212055192447349,\n",
       " 0.3254769921436588,\n",
       " 0.847953216374269]"
      ]
     },
     "execution_count": 26,
     "metadata": {},
     "output_type": "execute_result"
    }
   ],
   "source": [
    "class_weights"
   ]
  },
  {
   "cell_type": "code",
   "execution_count": 27,
   "metadata": {},
   "outputs": [],
   "source": [
    "weights = {1: 16.11111111111111,\n",
    "           2: 8.055555555555555,\n",
    "           3: 8.055555555555555,\n",
    "           4: 5.858585858585859,\n",
    "           5: 1.1934156378600822,\n",
    "           6: 0.9477124183006536,\n",
    "           9: 0.4212055192447349,\n",
    "           7: 0.3254769921436588,\n",
    "           8: 0.847953216374269}"
   ]
  },
  {
   "cell_type": "code",
   "execution_count": 28,
   "metadata": {},
   "outputs": [],
   "source": [
    "df[\"Weights\"] = df[\"Security\"].map(weights)"
   ]
  },
  {
   "cell_type": "code",
   "execution_count": 29,
   "metadata": {},
   "outputs": [
    {
     "data": {
      "text/html": [
       "<div>\n",
       "<style scoped>\n",
       "    .dataframe tbody tr th:only-of-type {\n",
       "        vertical-align: middle;\n",
       "    }\n",
       "\n",
       "    .dataframe tbody tr th {\n",
       "        vertical-align: top;\n",
       "    }\n",
       "\n",
       "    .dataframe thead th {\n",
       "        text-align: right;\n",
       "    }\n",
       "</style>\n",
       "<table border=\"1\" class=\"dataframe\">\n",
       "  <thead>\n",
       "    <tr style=\"text-align: right;\">\n",
       "      <th></th>\n",
       "      <th>Antagonismo</th>\n",
       "      <th>Intensidad</th>\n",
       "      <th>Text</th>\n",
       "      <th>Security</th>\n",
       "      <th>Weights</th>\n",
       "    </tr>\n",
       "  </thead>\n",
       "  <tbody>\n",
       "    <tr>\n",
       "      <th>0</th>\n",
       "      <td>Nacional</td>\n",
       "      <td>2</td>\n",
       "      <td>el tlc no sirvió a méxico lo incrustaron ni si...</td>\n",
       "      <td>8</td>\n",
       "      <td>0.847953</td>\n",
       "    </tr>\n",
       "    <tr>\n",
       "      <th>1</th>\n",
       "      <td>Público</td>\n",
       "      <td>2</td>\n",
       "      <td>hay más de 80 millones de pobres se exportan 3...</td>\n",
       "      <td>2</td>\n",
       "      <td>8.055556</td>\n",
       "    </tr>\n",
       "    <tr>\n",
       "      <th>2</th>\n",
       "      <td>Nacional</td>\n",
       "      <td>3</td>\n",
       "      <td>cedimos la banca nacional no puedes competir s...</td>\n",
       "      <td>9</td>\n",
       "      <td>0.421206</td>\n",
       "    </tr>\n",
       "    <tr>\n",
       "      <th>3</th>\n",
       "      <td>Interior</td>\n",
       "      <td>2</td>\n",
       "      <td>no está fluyendo el dinero se dice que tienen ...</td>\n",
       "      <td>5</td>\n",
       "      <td>1.193416</td>\n",
       "    </tr>\n",
       "    <tr>\n",
       "      <th>4</th>\n",
       "      <td>Público</td>\n",
       "      <td>1</td>\n",
       "      <td>la cajas de ahorro casi 500 la había creado ad...</td>\n",
       "      <td>1</td>\n",
       "      <td>16.111111</td>\n",
       "    </tr>\n",
       "  </tbody>\n",
       "</table>\n",
       "</div>"
      ],
      "text/plain": [
       "  Antagonismo  Intensidad                                               Text  \\\n",
       "0    Nacional           2  el tlc no sirvió a méxico lo incrustaron ni si...   \n",
       "1     Público           2  hay más de 80 millones de pobres se exportan 3...   \n",
       "2    Nacional           3  cedimos la banca nacional no puedes competir s...   \n",
       "3    Interior           2  no está fluyendo el dinero se dice que tienen ...   \n",
       "4     Público           1  la cajas de ahorro casi 500 la había creado ad...   \n",
       "\n",
       "   Security    Weights  \n",
       "0         8   0.847953  \n",
       "1         2   8.055556  \n",
       "2         9   0.421206  \n",
       "3         5   1.193416  \n",
       "4         1  16.111111  "
      ]
     },
     "execution_count": 29,
     "metadata": {},
     "output_type": "execute_result"
    }
   ],
   "source": [
    "df.head()"
   ]
  },
  {
   "cell_type": "markdown",
   "metadata": {},
   "source": [
    "## Creación del cuerpo textual\n",
    "Se refiere a la integración de todo el texto en una estructura de datos que funcionará como los datos de entrenmiento"
   ]
  },
  {
   "cell_type": "code",
   "execution_count": 30,
   "metadata": {},
   "outputs": [],
   "source": [
    "X = df.drop([\"Antagonismo\", \"Intensidad\", \"Security\"], axis=1)\n",
    "y = df[\"Security\"]"
   ]
  },
  {
   "cell_type": "code",
   "execution_count": 31,
   "metadata": {},
   "outputs": [
    {
     "data": {
      "text/html": [
       "<div>\n",
       "<style scoped>\n",
       "    .dataframe tbody tr th:only-of-type {\n",
       "        vertical-align: middle;\n",
       "    }\n",
       "\n",
       "    .dataframe tbody tr th {\n",
       "        vertical-align: top;\n",
       "    }\n",
       "\n",
       "    .dataframe thead th {\n",
       "        text-align: right;\n",
       "    }\n",
       "</style>\n",
       "<table border=\"1\" class=\"dataframe\">\n",
       "  <thead>\n",
       "    <tr style=\"text-align: right;\">\n",
       "      <th></th>\n",
       "      <th>Text</th>\n",
       "      <th>Weights</th>\n",
       "    </tr>\n",
       "  </thead>\n",
       "  <tbody>\n",
       "    <tr>\n",
       "      <th>0</th>\n",
       "      <td>el tlc no sirvió a méxico lo incrustaron ni si...</td>\n",
       "      <td>0.847953</td>\n",
       "    </tr>\n",
       "    <tr>\n",
       "      <th>1</th>\n",
       "      <td>hay más de 80 millones de pobres se exportan 3...</td>\n",
       "      <td>8.055556</td>\n",
       "    </tr>\n",
       "    <tr>\n",
       "      <th>2</th>\n",
       "      <td>cedimos la banca nacional no puedes competir s...</td>\n",
       "      <td>0.421206</td>\n",
       "    </tr>\n",
       "    <tr>\n",
       "      <th>3</th>\n",
       "      <td>no está fluyendo el dinero se dice que tienen ...</td>\n",
       "      <td>1.193416</td>\n",
       "    </tr>\n",
       "    <tr>\n",
       "      <th>4</th>\n",
       "      <td>la cajas de ahorro casi 500 la había creado ad...</td>\n",
       "      <td>16.111111</td>\n",
       "    </tr>\n",
       "  </tbody>\n",
       "</table>\n",
       "</div>"
      ],
      "text/plain": [
       "                                                Text    Weights\n",
       "0  el tlc no sirvió a méxico lo incrustaron ni si...   0.847953\n",
       "1  hay más de 80 millones de pobres se exportan 3...   8.055556\n",
       "2  cedimos la banca nacional no puedes competir s...   0.421206\n",
       "3  no está fluyendo el dinero se dice que tienen ...   1.193416\n",
       "4  la cajas de ahorro casi 500 la había creado ad...  16.111111"
      ]
     },
     "execution_count": 31,
     "metadata": {},
     "output_type": "execute_result"
    }
   ],
   "source": [
    "X.head()"
   ]
  },
  {
   "cell_type": "code",
   "execution_count": 34,
   "metadata": {},
   "outputs": [
    {
     "data": {
      "text/plain": [
       "array([8, 2, 9, 5, 1, 7, 6, 4, 3])"
      ]
     },
     "execution_count": 34,
     "metadata": {},
     "output_type": "execute_result"
    }
   ],
   "source": [
    "y.unique()"
   ]
  },
  {
   "cell_type": "code",
   "execution_count": 35,
   "metadata": {},
   "outputs": [],
   "source": [
    "for i in range(0, X.shape[0]):\n",
    "    corpus.append(X[\"Text\"][i])"
   ]
  },
  {
   "cell_type": "code",
   "execution_count": 36,
   "metadata": {},
   "outputs": [
    {
     "data": {
      "text/plain": [
       "['el tlc no sirvió a méxico lo incrustaron ni siquiera lo consultaron',\n",
       " 'hay más de 80 millones de pobres se exportan 30 millones de mexicano por que no hay trabajo',\n",
       " 'cedimos la banca nacional no puedes competir si no tienes banca el 92 de la banca e extranjera brasil y china le deben su éxito a que su banca en nacional',\n",
       " 'no está fluyendo el dinero se dice que tienen 180 billones de dólares de reserva pero no se están usando',\n",
       " 'la cajas de ahorro casi 500 la había creado adriana salina de gortari y quebraron',\n",
       " 'luego no metieron al aspan asociación de prosperidad y seguridad de norte américa que hizo fox a espaldas de la nación',\n",
       " 'estamos en un momento sumamente militar',\n",
       " 'con trump y su política proteccionista ya de facto dice que el modelo neoliberal está muerto',\n",
       " 'existe una globalización digital que está sustituyendo la globalización mercantilista y la globalización financiera',\n",
       " 'pareciera que no existen instrumentos ciudadanos de cogobierno en el siglo xxi e decir no podemos quedarnos con la mismas estructuras de separación como el ejecutivo legislativo y judicial por que empiezan en 1917 y andan tambaleándose en el xxi por eso la crisis de a clase política y de la democracia',\n",
       " 'la mentira que mejor publicidad tenga e la que va a ganar',\n",
       " 'por desgracia tenemos la espada de damocles por que van a explotar esa falla de la democracia para un mayor militarismo',\n",
       " 'the economist financial time que son de los rothschild the guardian ligado a soros',\n",
       " 'existe un armamentismo de la información y de la desinformación',\n",
       " 'la hiperconectividad en la esfera de la información se convirtió en el espacio competitivo más congestionado y peleado ya que gracias a internet el público puede identificar a persona con los mismos valores e intercambiar idea cuando los gobiernos no son sencillamente parte de esas conversaciones']"
      ]
     },
     "execution_count": 36,
     "metadata": {},
     "output_type": "execute_result"
    }
   ],
   "source": [
    "corpus[0:15]"
   ]
  },
  {
   "cell_type": "code",
   "execution_count": 38,
   "metadata": {},
   "outputs": [
    {
     "data": {
      "text/plain": [
       "[2119, 1505, 2171, 4142, 3541, 349, 1765, 3218, 4277, 4379, 1765, 1790]"
      ]
     },
     "execution_count": 38,
     "metadata": {},
     "output_type": "execute_result"
    }
   ],
   "source": [
    "# Tamaño del vocabulario\n",
    "voc_size = 5_000\n",
    "# Representación en 1's y 0's de cada palabra\n",
    "onehot_repr = [one_hot(words,voc_size)for words in corpus] \n",
    "onehot_repr[0]"
   ]
  },
  {
   "cell_type": "markdown",
   "metadata": {},
   "source": [
    "> **Este último vector es el índice de cada palabra de la primera oración de cuerpo textual.**"
   ]
  },
  {
   "cell_type": "code",
   "execution_count": 39,
   "metadata": {},
   "outputs": [
    {
     "data": {
      "text/plain": [
       "array([   0,    0,    0,    0,    0,    0,    0,    0,    0,    0,    0,\n",
       "          0,    0,    0,    0,    0,    0,    0,    0,    0,    0,    0,\n",
       "          0,    0,    0,    0,    0,    0,    0,    0,    0,    0,    0,\n",
       "          0,    0,    0,    0,    0,    0,    0,    0,    0,    0,    0,\n",
       "          0,    0,    0,    0, 2119, 1505, 2171, 4142, 3541,  349, 1765,\n",
       "       3218, 4277, 4379, 1765, 1790], dtype=int32)"
      ]
     },
     "execution_count": 39,
     "metadata": {},
     "output_type": "execute_result"
    }
   ],
   "source": [
    "sent_length = 60\n",
    "embedded_docs = pad_sequences(onehot_repr,padding='pre',maxlen=sent_length)\n",
    "embedded_docs[0]"
   ]
  },
  {
   "cell_type": "markdown",
   "metadata": {},
   "source": [
    "> **Como cada oración es de diferente longitud extenderemos la capacidad del modelo a 60 palabras de manera que cada oración debe de tener la misma longitud y si no la tiene se completará con ceros.**"
   ]
  },
  {
   "cell_type": "code",
   "execution_count": 40,
   "metadata": {},
   "outputs": [
    {
     "data": {
      "text/plain": [
       "(580, 60)"
      ]
     },
     "execution_count": 40,
     "metadata": {},
     "output_type": "execute_result"
    }
   ],
   "source": [
    "embedded_docs.shape"
   ]
  },
  {
   "cell_type": "code",
   "execution_count": 41,
   "metadata": {},
   "outputs": [],
   "source": [
    "embedded_docs_2 = np.zeros((580, 61))"
   ]
  },
  {
   "cell_type": "code",
   "execution_count": 42,
   "metadata": {},
   "outputs": [],
   "source": [
    "for i in range(embedded_docs.shape[0]):\n",
    "    embedded_docs_2[i] = np.append(embedded_docs[i], df[\"Weights\"][i])"
   ]
  },
  {
   "cell_type": "code",
   "execution_count": 43,
   "metadata": {},
   "outputs": [
    {
     "data": {
      "text/plain": [
       "array([0.00000000e+00, 0.00000000e+00, 0.00000000e+00, 0.00000000e+00,\n",
       "       0.00000000e+00, 0.00000000e+00, 0.00000000e+00, 0.00000000e+00,\n",
       "       0.00000000e+00, 0.00000000e+00, 0.00000000e+00, 0.00000000e+00,\n",
       "       0.00000000e+00, 0.00000000e+00, 0.00000000e+00, 0.00000000e+00,\n",
       "       0.00000000e+00, 0.00000000e+00, 0.00000000e+00, 0.00000000e+00,\n",
       "       0.00000000e+00, 0.00000000e+00, 0.00000000e+00, 0.00000000e+00,\n",
       "       0.00000000e+00, 0.00000000e+00, 0.00000000e+00, 0.00000000e+00,\n",
       "       0.00000000e+00, 0.00000000e+00, 0.00000000e+00, 0.00000000e+00,\n",
       "       0.00000000e+00, 0.00000000e+00, 0.00000000e+00, 0.00000000e+00,\n",
       "       0.00000000e+00, 0.00000000e+00, 0.00000000e+00, 0.00000000e+00,\n",
       "       0.00000000e+00, 0.00000000e+00, 0.00000000e+00, 0.00000000e+00,\n",
       "       0.00000000e+00, 0.00000000e+00, 0.00000000e+00, 0.00000000e+00,\n",
       "       2.11900000e+03, 1.50500000e+03, 2.17100000e+03, 4.14200000e+03,\n",
       "       3.54100000e+03, 3.49000000e+02, 1.76500000e+03, 3.21800000e+03,\n",
       "       4.27700000e+03, 4.37900000e+03, 1.76500000e+03, 1.79000000e+03,\n",
       "       8.47953216e-01])"
      ]
     },
     "execution_count": 43,
     "metadata": {},
     "output_type": "execute_result"
    }
   ],
   "source": [
    "embedded_docs_2[0]"
   ]
  },
  {
   "cell_type": "code",
   "execution_count": 44,
   "metadata": {},
   "outputs": [
    {
     "data": {
      "text/plain": [
       "(580, 61)"
      ]
     },
     "execution_count": 44,
     "metadata": {},
     "output_type": "execute_result"
    }
   ],
   "source": [
    "embedded_docs_2.shape"
   ]
  },
  {
   "cell_type": "code",
   "execution_count": 46,
   "metadata": {},
   "outputs": [
    {
     "data": {
      "text/html": [
       "<div>\n",
       "<style scoped>\n",
       "    .dataframe tbody tr th:only-of-type {\n",
       "        vertical-align: middle;\n",
       "    }\n",
       "\n",
       "    .dataframe tbody tr th {\n",
       "        vertical-align: top;\n",
       "    }\n",
       "\n",
       "    .dataframe thead th {\n",
       "        text-align: right;\n",
       "    }\n",
       "</style>\n",
       "<table border=\"1\" class=\"dataframe\">\n",
       "  <thead>\n",
       "    <tr style=\"text-align: right;\">\n",
       "      <th></th>\n",
       "      <th>1</th>\n",
       "      <th>2</th>\n",
       "      <th>3</th>\n",
       "      <th>4</th>\n",
       "      <th>5</th>\n",
       "      <th>6</th>\n",
       "      <th>7</th>\n",
       "      <th>8</th>\n",
       "      <th>9</th>\n",
       "    </tr>\n",
       "  </thead>\n",
       "  <tbody>\n",
       "    <tr>\n",
       "      <th>0</th>\n",
       "      <td>0</td>\n",
       "      <td>0</td>\n",
       "      <td>0</td>\n",
       "      <td>0</td>\n",
       "      <td>0</td>\n",
       "      <td>0</td>\n",
       "      <td>0</td>\n",
       "      <td>1</td>\n",
       "      <td>0</td>\n",
       "    </tr>\n",
       "    <tr>\n",
       "      <th>1</th>\n",
       "      <td>0</td>\n",
       "      <td>1</td>\n",
       "      <td>0</td>\n",
       "      <td>0</td>\n",
       "      <td>0</td>\n",
       "      <td>0</td>\n",
       "      <td>0</td>\n",
       "      <td>0</td>\n",
       "      <td>0</td>\n",
       "    </tr>\n",
       "    <tr>\n",
       "      <th>2</th>\n",
       "      <td>0</td>\n",
       "      <td>0</td>\n",
       "      <td>0</td>\n",
       "      <td>0</td>\n",
       "      <td>0</td>\n",
       "      <td>0</td>\n",
       "      <td>0</td>\n",
       "      <td>0</td>\n",
       "      <td>1</td>\n",
       "    </tr>\n",
       "    <tr>\n",
       "      <th>3</th>\n",
       "      <td>0</td>\n",
       "      <td>0</td>\n",
       "      <td>0</td>\n",
       "      <td>0</td>\n",
       "      <td>1</td>\n",
       "      <td>0</td>\n",
       "      <td>0</td>\n",
       "      <td>0</td>\n",
       "      <td>0</td>\n",
       "    </tr>\n",
       "    <tr>\n",
       "      <th>4</th>\n",
       "      <td>1</td>\n",
       "      <td>0</td>\n",
       "      <td>0</td>\n",
       "      <td>0</td>\n",
       "      <td>0</td>\n",
       "      <td>0</td>\n",
       "      <td>0</td>\n",
       "      <td>0</td>\n",
       "      <td>0</td>\n",
       "    </tr>\n",
       "  </tbody>\n",
       "</table>\n",
       "</div>"
      ],
      "text/plain": [
       "   1  2  3  4  5  6  7  8  9\n",
       "0  0  0  0  0  0  0  0  1  0\n",
       "1  0  1  0  0  0  0  0  0  0\n",
       "2  0  0  0  0  0  0  0  0  1\n",
       "3  0  0  0  0  1  0  0  0  0\n",
       "4  1  0  0  0  0  0  0  0  0"
      ]
     },
     "execution_count": 46,
     "metadata": {},
     "output_type": "execute_result"
    }
   ],
   "source": [
    "y = pd.get_dummies(y)\n",
    "y.head()"
   ]
  },
  {
   "cell_type": "code",
   "execution_count": 47,
   "metadata": {},
   "outputs": [
    {
     "name": "stdout",
     "output_type": "stream",
     "text": [
      "(522, 61) (522, 9)\n",
      "(58, 61) (58, 9)\n"
     ]
    }
   ],
   "source": [
    "X_train, X_test, y_train, y_test = train_test_split(embedded_docs_2, y.values, test_size = 0.10, random_state = 42)\n",
    "print(X_train.shape, y_train.shape)\n",
    "print(X_test.shape, y_test.shape)"
   ]
  },
  {
   "cell_type": "code",
   "execution_count": 48,
   "metadata": {},
   "outputs": [
    {
     "data": {
      "text/plain": [
       "(522, 61)"
      ]
     },
     "execution_count": 48,
     "metadata": {},
     "output_type": "execute_result"
    }
   ],
   "source": [
    "X_train.shape"
   ]
  },
  {
   "cell_type": "code",
   "execution_count": 49,
   "metadata": {},
   "outputs": [],
   "source": [
    "weight_array = np.zeros(X_train.shape[0])"
   ]
  },
  {
   "cell_type": "code",
   "execution_count": 50,
   "metadata": {},
   "outputs": [
    {
     "data": {
      "text/plain": [
       "522"
      ]
     },
     "execution_count": 50,
     "metadata": {},
     "output_type": "execute_result"
    }
   ],
   "source": [
    "len(weight_array)"
   ]
  },
  {
   "cell_type": "code",
   "execution_count": 51,
   "metadata": {},
   "outputs": [],
   "source": [
    "X_train_f = np.zeros((522, 60))"
   ]
  },
  {
   "cell_type": "code",
   "execution_count": 52,
   "metadata": {},
   "outputs": [],
   "source": [
    "for i in range(X_train.shape[0]):\n",
    "    weight_array[i] = X_train[i][-1]\n",
    "    X_train_f[i] = X_train[i][:-1]"
   ]
  },
  {
   "cell_type": "code",
   "execution_count": 53,
   "metadata": {},
   "outputs": [
    {
     "data": {
      "text/plain": [
       "(522, 60)"
      ]
     },
     "execution_count": 53,
     "metadata": {},
     "output_type": "execute_result"
    }
   ],
   "source": [
    "X_train_f.shape"
   ]
  },
  {
   "cell_type": "code",
   "execution_count": 54,
   "metadata": {},
   "outputs": [
    {
     "data": {
      "text/plain": [
       "array([0.94771242, 0.94771242, 0.84795322, 0.84795322, 1.19341564,\n",
       "       0.84795322])"
      ]
     },
     "execution_count": 54,
     "metadata": {},
     "output_type": "execute_result"
    }
   ],
   "source": [
    "weight_array[0:6]"
   ]
  },
  {
   "cell_type": "code",
   "execution_count": 55,
   "metadata": {},
   "outputs": [
    {
     "data": {
      "text/plain": [
       "522"
      ]
     },
     "execution_count": 55,
     "metadata": {},
     "output_type": "execute_result"
    }
   ],
   "source": [
    "len(weight_array)"
   ]
  },
  {
   "cell_type": "code",
   "execution_count": 56,
   "metadata": {},
   "outputs": [
    {
     "data": {
      "text/plain": [
       "(58, 61)"
      ]
     },
     "execution_count": 56,
     "metadata": {},
     "output_type": "execute_result"
    }
   ],
   "source": [
    "X_test.shape"
   ]
  },
  {
   "cell_type": "code",
   "execution_count": 57,
   "metadata": {},
   "outputs": [],
   "source": [
    "X_test_f = np.zeros((58, 60))"
   ]
  },
  {
   "cell_type": "code",
   "execution_count": 58,
   "metadata": {},
   "outputs": [],
   "source": [
    "for i in range(X_test.shape[0]):\n",
    "    X_test_f[i] = X_test[i][:-1]"
   ]
  },
  {
   "cell_type": "code",
   "execution_count": 59,
   "metadata": {},
   "outputs": [
    {
     "data": {
      "text/plain": [
       "(58, 60)"
      ]
     },
     "execution_count": 59,
     "metadata": {},
     "output_type": "execute_result"
    }
   ],
   "source": [
    "X_test_f.shape"
   ]
  },
  {
   "cell_type": "code",
   "execution_count": 60,
   "metadata": {},
   "outputs": [
    {
     "name": "stdout",
     "output_type": "stream",
     "text": [
      "(522, 60) (522, 9)\n",
      "(58, 60) (58, 9)\n"
     ]
    }
   ],
   "source": [
    "print(X_train_f.shape, y_train.shape)\n",
    "print(X_test_f.shape, y_test.shape)"
   ]
  },
  {
   "cell_type": "markdown",
   "metadata": {},
   "source": [
    "## Recurrent Neural Net\n",
    "\n",
    "Ya que se está analizando texto la secuencia de las palabras es importante para el entendimiento del significado en el mensaje por lo tanto una red neuronal convencional no basta ya que le daría el mismo peso a todas las palabras, es decir, un 'pero' estaría al nivel de 'guerra', por lo tanto, la arquitectura sera de una red neuronal recurrente con celdas memoria bidireccional, su principal característica es que podrá recordar el principio de la oración y adelantarse a la secuencia de palabras en la oración para entender mejor su significado:\n",
    "\n",
    "![LSTM](Gisell_LSTM.png)\n",
    "\n",
    "> **La red representará al texto de entrada en 100 dimensiones, la capa de red consistirá de 128 celdas de memoria y una salida de 9 opciones que dará la probabilidad para cada una de las 9 clasificaciones que tenemos, seleccionando la de mayor probabilidad.**\n",
    "\n",
    "> **Una característica adicional que asegurará la estabilidad de la red es una capa de Normalización por lo que el conjunto de datos de entrada tendrán las mismas dimensiones.**"
   ]
  },
  {
   "cell_type": "code",
   "execution_count": 61,
   "metadata": {},
   "outputs": [
    {
     "name": "stdout",
     "output_type": "stream",
     "text": [
      "Model: \"sequential\"\n",
      "_________________________________________________________________\n",
      "Layer (type)                 Output Shape              Param #   \n",
      "=================================================================\n",
      "embedding (Embedding)        (None, 60, 100)           500000    \n",
      "_________________________________________________________________\n",
      "batch_normalization (BatchNo (None, 60, 100)           400       \n",
      "_________________________________________________________________\n",
      "lstm (LSTM)                  (None, 128)               117248    \n",
      "_________________________________________________________________\n",
      "dense (Dense)                (None, 9)                 1161      \n",
      "=================================================================\n",
      "Total params: 618,809\n",
      "Trainable params: 618,609\n",
      "Non-trainable params: 200\n",
      "_________________________________________________________________\n",
      "None\n"
     ]
    }
   ],
   "source": [
    "embedding_vector_features = 100\n",
    "model = Sequential()\n",
    "model.add(Embedding(voc_size, embedding_vector_features,input_length=sent_length))\n",
    "model.add(BatchNormalization(input_shape=(60, 100)))\n",
    "model.add(LSTM(128, activation='relu'))\n",
    "model.add(Dense(9,activation='softmax'))\n",
    "model.compile(loss='categorical_crossentropy',optimizer='adam',metrics=['accuracy'])\n",
    "print(model.summary())"
   ]
  },
  {
   "cell_type": "code",
   "execution_count": 62,
   "metadata": {},
   "outputs": [
    {
     "name": "stdout",
     "output_type": "stream",
     "text": [
      "Epoch 1/50\n",
      "17/17 [==============================] - 2s 60ms/step - loss: 2.4850 - accuracy: 0.1766 - val_loss: 2.0858 - val_accuracy: 0.3048\n",
      "Epoch 2/50\n",
      "17/17 [==============================] - 1s 41ms/step - loss: 1.8149 - accuracy: 0.3790 - val_loss: 2.0809 - val_accuracy: 0.3238\n",
      "Epoch 3/50\n",
      "17/17 [==============================] - 1s 42ms/step - loss: 1.3738 - accuracy: 0.4637 - val_loss: 2.0862 - val_accuracy: 0.2857\n",
      "Epoch 4/50\n",
      "17/17 [==============================] - 1s 43ms/step - loss: 0.7356 - accuracy: 0.7296 - val_loss: 2.0855 - val_accuracy: 0.3619\n",
      "Epoch 5/50\n",
      "17/17 [==============================] - 1s 41ms/step - loss: 0.5136 - accuracy: 0.8758 - val_loss: 2.0790 - val_accuracy: 0.3238\n",
      "Epoch 6/50\n",
      "17/17 [==============================] - 1s 40ms/step - loss: 0.4084 - accuracy: 0.8976 - val_loss: 2.0753 - val_accuracy: 0.3429\n",
      "Epoch 7/50\n",
      "17/17 [==============================] - 1s 40ms/step - loss: 0.1695 - accuracy: 0.9297 - val_loss: 2.0734 - val_accuracy: 0.2857\n",
      "Epoch 8/50\n",
      "17/17 [==============================] - 1s 40ms/step - loss: 0.1260 - accuracy: 0.9890 - val_loss: 2.0707 - val_accuracy: 0.2857\n",
      "Epoch 9/50\n",
      "17/17 [==============================] - 1s 39ms/step - loss: 3.1881 - accuracy: 0.8922 - val_loss: 2.0674 - val_accuracy: 0.3048\n",
      "Epoch 10/50\n",
      "17/17 [==============================] - 1s 40ms/step - loss: 0.4895 - accuracy: 0.9178 - val_loss: 2.0703 - val_accuracy: 0.3048\n",
      "Epoch 11/50\n",
      "17/17 [==============================] - 1s 52ms/step - loss: 0.2415 - accuracy: 0.9838 - val_loss: 2.0670 - val_accuracy: 0.2857\n",
      "Epoch 12/50\n",
      "17/17 [==============================] - 1s 58ms/step - loss: 0.8640 - accuracy: 0.9722 - val_loss: 2.0624 - val_accuracy: 0.2952\n",
      "Epoch 13/50\n",
      "17/17 [==============================] - 1s 43ms/step - loss: 0.2749 - accuracy: 0.9702 - val_loss: 2.0580 - val_accuracy: 0.3143\n",
      "Epoch 14/50\n",
      "17/17 [==============================] - 1s 41ms/step - loss: 0.2529 - accuracy: 0.9770 - val_loss: 2.0564 - val_accuracy: 0.3048\n",
      "Epoch 15/50\n",
      "17/17 [==============================] - 1s 41ms/step - loss: 0.1645 - accuracy: 0.9758 - val_loss: 2.0536 - val_accuracy: 0.2952\n",
      "Epoch 16/50\n",
      "17/17 [==============================] - 1s 40ms/step - loss: 0.1119 - accuracy: 0.9964 - val_loss: 2.0514 - val_accuracy: 0.2952\n",
      "Epoch 17/50\n",
      "17/17 [==============================] - 1s 39ms/step - loss: 0.0684 - accuracy: 0.9989 - val_loss: 2.0493 - val_accuracy: 0.2857\n",
      "Epoch 18/50\n",
      "17/17 [==============================] - 1s 39ms/step - loss: 0.0687 - accuracy: 1.0000 - val_loss: 2.0457 - val_accuracy: 0.2762\n",
      "Epoch 19/50\n",
      "17/17 [==============================] - 1s 39ms/step - loss: 0.0548 - accuracy: 1.0000 - val_loss: 2.0410 - val_accuracy: 0.2762\n",
      "Epoch 20/50\n",
      "17/17 [==============================] - 1s 39ms/step - loss: 0.0334 - accuracy: 1.0000 - val_loss: 2.0364 - val_accuracy: 0.2857\n",
      "Epoch 21/50\n",
      "17/17 [==============================] - 1s 39ms/step - loss: 0.0275 - accuracy: 1.0000 - val_loss: 2.0315 - val_accuracy: 0.2857\n",
      "Epoch 22/50\n",
      "17/17 [==============================] - 1s 42ms/step - loss: 0.0292 - accuracy: 1.0000 - val_loss: 2.0269 - val_accuracy: 0.2857\n",
      "Epoch 23/50\n",
      "17/17 [==============================] - 1s 47ms/step - loss: 0.0162 - accuracy: 1.0000 - val_loss: 2.0202 - val_accuracy: 0.2857\n",
      "Epoch 24/50\n",
      "17/17 [==============================] - 1s 41ms/step - loss: 0.0166 - accuracy: 1.0000 - val_loss: 2.0191 - val_accuracy: 0.2667\n",
      "Epoch 25/50\n",
      "17/17 [==============================] - 1s 43ms/step - loss: 0.0320 - accuracy: 0.9983 - val_loss: 2.0185 - val_accuracy: 0.2762\n",
      "Epoch 26/50\n",
      "17/17 [==============================] - 1s 48ms/step - loss: 0.0434 - accuracy: 0.9956 - val_loss: 1.9947 - val_accuracy: 0.2952\n",
      "Epoch 27/50\n",
      "17/17 [==============================] - 1s 49ms/step - loss: 0.0209 - accuracy: 1.0000 - val_loss: 1.9810 - val_accuracy: 0.2952\n",
      "Epoch 28/50\n",
      "17/17 [==============================] - 1s 41ms/step - loss: 0.0154 - accuracy: 1.0000 - val_loss: 1.9709 - val_accuracy: 0.2952\n",
      "Epoch 29/50\n",
      "17/17 [==============================] - 1s 41ms/step - loss: 0.0111 - accuracy: 1.0000 - val_loss: 1.9636 - val_accuracy: 0.2952\n",
      "Epoch 30/50\n",
      "17/17 [==============================] - 1s 40ms/step - loss: 0.0098 - accuracy: 1.0000 - val_loss: 1.9577 - val_accuracy: 0.2857\n",
      "Epoch 31/50\n",
      "17/17 [==============================] - 1s 46ms/step - loss: 0.0093 - accuracy: 1.0000 - val_loss: 1.9536 - val_accuracy: 0.2952\n",
      "Epoch 32/50\n",
      "17/17 [==============================] - 1s 51ms/step - loss: 0.0062 - accuracy: 1.0000 - val_loss: 1.9520 - val_accuracy: 0.2952\n",
      "Epoch 33/50\n",
      "17/17 [==============================] - 1s 58ms/step - loss: 0.0063 - accuracy: 1.0000 - val_loss: 1.9528 - val_accuracy: 0.2857\n",
      "Epoch 34/50\n",
      "17/17 [==============================] - 1s 59ms/step - loss: 0.0048 - accuracy: 1.0000 - val_loss: 1.9565 - val_accuracy: 0.2762\n",
      "Epoch 35/50\n",
      "17/17 [==============================] - 1s 49ms/step - loss: 0.0046 - accuracy: 1.0000 - val_loss: 1.9648 - val_accuracy: 0.2857\n",
      "Epoch 36/50\n",
      "17/17 [==============================] - 1s 48ms/step - loss: 0.0038 - accuracy: 1.0000 - val_loss: 1.9773 - val_accuracy: 0.2857\n",
      "Epoch 37/50\n",
      "17/17 [==============================] - 1s 40ms/step - loss: 0.0037 - accuracy: 1.0000 - val_loss: 1.9945 - val_accuracy: 0.2857\n",
      "Epoch 38/50\n",
      "17/17 [==============================] - 1s 40ms/step - loss: 0.0036 - accuracy: 1.0000 - val_loss: 2.0164 - val_accuracy: 0.2857\n",
      "Epoch 39/50\n",
      "17/17 [==============================] - 1s 43ms/step - loss: 0.0034 - accuracy: 1.0000 - val_loss: 2.0448 - val_accuracy: 0.2857\n",
      "Epoch 40/50\n",
      "17/17 [==============================] - 1s 40ms/step - loss: 0.0026 - accuracy: 1.0000 - val_loss: 2.0794 - val_accuracy: 0.2857\n",
      "Epoch 41/50\n",
      "17/17 [==============================] - 1s 40ms/step - loss: 0.0027 - accuracy: 1.0000 - val_loss: 2.1200 - val_accuracy: 0.2762\n",
      "Epoch 42/50\n",
      "17/17 [==============================] - 1s 39ms/step - loss: 0.0024 - accuracy: 1.0000 - val_loss: 2.1671 - val_accuracy: 0.2762\n",
      "Epoch 43/50\n",
      "17/17 [==============================] - 1s 47ms/step - loss: 0.0021 - accuracy: 1.0000 - val_loss: 2.2196 - val_accuracy: 0.2762\n",
      "Epoch 44/50\n",
      "17/17 [==============================] - 1s 51ms/step - loss: 0.0021 - accuracy: 1.0000 - val_loss: 2.2773 - val_accuracy: 0.2762\n",
      "Epoch 45/50\n",
      "17/17 [==============================] - 1s 50ms/step - loss: 0.0017 - accuracy: 1.0000 - val_loss: 2.3404 - val_accuracy: 0.2857\n",
      "Epoch 46/50\n",
      "17/17 [==============================] - 1s 44ms/step - loss: 0.0018 - accuracy: 1.0000 - val_loss: 2.4048 - val_accuracy: 0.2857\n",
      "Epoch 47/50\n",
      "17/17 [==============================] - 1s 39ms/step - loss: 0.0019 - accuracy: 1.0000 - val_loss: 2.4732 - val_accuracy: 0.2857\n",
      "Epoch 48/50\n",
      "17/17 [==============================] - 1s 39ms/step - loss: 0.0014 - accuracy: 1.0000 - val_loss: 2.5428 - val_accuracy: 0.2857\n",
      "Epoch 49/50\n",
      "17/17 [==============================] - 1s 44ms/step - loss: 0.0014 - accuracy: 1.0000 - val_loss: 2.6112 - val_accuracy: 0.2857\n",
      "Epoch 50/50\n",
      "17/17 [==============================] - 1s 40ms/step - loss: 0.0013 - accuracy: 1.0000 - val_loss: 2.6790 - val_accuracy: 0.2857\n"
     ]
    }
   ],
   "source": [
    "history = model.fit(X_train_f, y_train, sample_weight=weight_array, validation_split=0.2, epochs=50, batch_size=25)"
   ]
  },
  {
   "cell_type": "code",
   "execution_count": 63,
   "metadata": {},
   "outputs": [
    {
     "name": "stdout",
     "output_type": "stream",
     "text": [
      "2/2 [==============================] - 0s 13ms/step - loss: 2.1675 - accuracy: 0.3621\n",
      "Test set\n",
      "  Loss: 2.168\n",
      "  Accuracy: 0.362\n"
     ]
    }
   ],
   "source": [
    "a = model.evaluate(X_test_f, y_test)\n",
    "print('Test set\\n  Loss: {:0.3f}\\n  Accuracy: {:0.3f}'.format(a[0], a[1]))"
   ]
  },
  {
   "cell_type": "code",
   "execution_count": 64,
   "metadata": {},
   "outputs": [
    {
     "data": {
      "image/png": "[encoded data removed]",
      "text/plain": [
       "<Figure size 1152x576 with 1 Axes>"
      ]
     },
     "metadata": {
      "needs_background": "light"
     },
     "output_type": "display_data"
    }
   ],
   "source": [
    "plt.figure(figsize=(16,8))\n",
    "plt.title(\"Loss\")\n",
    "plt.plot(history.history[\"loss\"], label='train')\n",
    "plt.plot(history.history[\"val_loss\"], label='test')\n",
    "plt.legend()\n",
    "plt.show()"
   ]
  },
  {
   "cell_type": "code",
   "execution_count": 65,
   "metadata": {},
   "outputs": [
    {
     "data": {
      "image/png": "[encoded data removed]",
      "text/plain": [
       "<Figure size 1152x576 with 1 Axes>"
      ]
     },
     "metadata": {
      "needs_background": "light"
     },
     "output_type": "display_data"
    }
   ],
   "source": [
    "plt.figure(figsize=(16,8))\n",
    "plt.title('Accuracy')\n",
    "plt.plot(history.history['accuracy'], label='train')\n",
    "plt.plot(history.history['val_accuracy'], label='test')\n",
    "plt.legend()\n",
    "plt.show();"
   ]
  },
  {
   "cell_type": "markdown",
   "metadata": {},
   "source": [
    "## Evaluando el modelo con nuevos ejemplos\n",
    "Los siguientes ejemplos se evaluaran al modelo ya entrenado:\n",
    "\n",
    "1. \"El siguiente año el bitcoin va a seguir subiendo\"\n",
    "2. \"México entra en un nacionalismo puro\"\n",
    "3. \"2021 será el año de la inflación real\""
   ]
  },
  {
   "cell_type": "code",
   "execution_count": 69,
   "metadata": {},
   "outputs": [],
   "source": [
    "def preprocess_statement(text):\n",
    "    statement = remove_punct(text)\n",
    "    statement = statement.lower()\n",
    "    statement = lematizer(statement)\n",
    "    statement = one_hot(statement, voc_size)\n",
    "    statement = pad_sequences([statement], padding='pre', maxlen=sent_length)\n",
    "    return statement"
   ]
  },
  {
   "cell_type": "code",
   "execution_count": 67,
   "metadata": {},
   "outputs": [],
   "source": [
    "labels = [\"Desafío en Seguridad Pública\", \n",
    "          \"Seguridad Pública en Riego o Amenaza\",\n",
    "          \"Seguridad Pública en Crisis\",\n",
    "          \"Desafío en Seguridad Interior\",\n",
    "          \"Seguridad Interior en Riesgo o Amenaza\",\n",
    "          \"Seguridad Interior en Crisis\",\n",
    "          \"Defensa Nacional Interna en Desafío\",\n",
    "          \"Defensa Nacional Interna en Riesgo o Amenaza\",\n",
    "          \"Defensa Exterior\"]"
   ]
  },
  {
   "cell_type": "code",
   "execution_count": 71,
   "metadata": {},
   "outputs": [
    {
     "name": "stdout",
     "output_type": "stream",
     "text": [
      "[[0.07318199 0.10483803 0.04745098 0.08291679 0.16890422 0.25208563\n",
      "  0.07977648 0.07560528 0.11524067]] Seguridad Interior en Crisis\n"
     ]
    }
   ],
   "source": [
    "pred = model.predict(preprocess_statement(\"México entra en un nacionalismo puro\"))\n",
    "print(pred, labels[np.argmax(pred)])"
   ]
  },
  {
   "cell_type": "code",
   "execution_count": 72,
   "metadata": {},
   "outputs": [
    {
     "name": "stdout",
     "output_type": "stream",
     "text": [
      "[[0.0093568  0.0134418  0.01216502 0.01291563 0.04201059 0.02837591\n",
      "  0.05703839 0.7209323  0.10376362]] Defensa Nacional Interna en Riesgo o Amenaza\n"
     ]
    }
   ],
   "source": [
    "pred = model.predict(preprocess_statement(\"2021 será el año de la inflación real\"))\n",
    "print(pred, labels[np.argmax(pred)])"
   ]
  },
  {
   "cell_type": "code",
   "execution_count": 73,
   "metadata": {},
   "outputs": [
    {
     "name": "stdout",
     "output_type": "stream",
     "text": [
      "[[0.00679701 0.03423879 0.02290665 0.01804313 0.46763805 0.03423718\n",
      "  0.01754331 0.1854743  0.21312161]] Seguridad Interior en Riesgo o Amenaza\n"
     ]
    }
   ],
   "source": [
    "pred = model.predict(preprocess_statement(\"Uno de los funcionarios que firmó el pacto por México sigue activo\"))\n",
    "print(pred, labels[np.argmax(pred)])"
   ]
  },
  {
   "cell_type": "code",
   "execution_count": 74,
   "metadata": {},
   "outputs": [
    {
     "name": "stdout",
     "output_type": "stream",
     "text": [
      "[[0.04934824 0.1170385  0.03104623 0.12592807 0.17737769 0.30738387\n",
      "  0.05614937 0.04625667 0.08947133]] Seguridad Interior en Crisis\n"
     ]
    }
   ],
   "source": [
    "pred = model.predict(preprocess_statement(\"Existen aún muchos muertos a causa del coronavirus\"))\n",
    "print(pred, labels[np.argmax(pred)])"
   ]
  },
  {
   "cell_type": "code",
   "execution_count": null,
   "metadata": {},
   "outputs": [],
   "source": []
  }
 ],
 "metadata": {
  "kernelspec": {
   "display_name": "Python 3",
   "language": "python",
   "name": "python3"
  },
  "language_info": {
   "codemirror_mode": {
    "name": "ipython",
    "version": 3
   },
   "file_extension": ".py",
   "mimetype": "text/x-python",
   "name": "python",
   "nbconvert_exporter": "python",
   "pygments_lexer": "ipython3",
   "version": "3.7.6"
  }
 },
 "nbformat": 4,
 "nbformat_minor": 4
}
