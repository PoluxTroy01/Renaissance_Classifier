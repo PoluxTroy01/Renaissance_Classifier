{
 "cells": [
  {
   "cell_type": "markdown",
   "metadata": {},
   "source": [
    "# Security Prediction 2"
   ]
  },
  {
   "cell_type": "code",
   "execution_count": 48,
   "metadata": {},
   "outputs": [],
   "source": [
    "# first we import the libraries\n",
    "import pandas as pd\n",
    "import numpy as np\n",
    "import matplotlib.pyplot as plt\n",
    "\n",
    "import tensorflow as tf\n",
    "from tensorflow.keras.layers import Embedding\n",
    "from tensorflow.keras.preprocessing.sequence import pad_sequences\n",
    "from tensorflow.keras.models import Sequential\n",
    "from tensorflow.keras.preprocessing.text import one_hot\n",
    "from tensorflow.keras.layers import LSTM\n",
    "from tensorflow.keras.layers import Dense\n",
    "from tensorflow.keras.layers import Bidirectional\n",
    "from tensorflow.keras.layers import Dropout\n",
    "from tensorflow.keras.layers import Flatten\n",
    "from tensorflow.keras.layers import SpatialDropout1D\n",
    "import nltk\n",
    "import re\n",
    "from nltk.corpus import stopwords\n",
    "from nltk.stem.porter import PorterStemmer\n",
    "from nltk.stem import WordNetLemmatizer\n",
    "import string\n",
    "from wordcloud import WordCloud\n",
    "from collections import Counter\n",
    "from sklearn.model_selection import train_test_split\n",
    "from sklearn.metrics import confusion_matrix\n",
    "from sklearn.metrics import accuracy_score\n",
    "from sklearn.metrics import classification_report\n",
    "\n",
    "%matplotlib inline"
   ]
  },
  {
   "cell_type": "code",
   "execution_count": 83,
   "metadata": {},
   "outputs": [],
   "source": [
    "# Getting the spanish stop words\n",
    "stop = set(stopwords.words(\"spanish\"))"
   ]
  },
  {
   "cell_type": "code",
   "execution_count": 2,
   "metadata": {},
   "outputs": [],
   "source": [
    "df = pd.read_csv(\"Gisell.csv\")"
   ]
  },
  {
   "cell_type": "code",
   "execution_count": 4,
   "metadata": {},
   "outputs": [
    {
     "data": {
      "text/plain": [
       "(580, 4)"
      ]
     },
     "execution_count": 4,
     "metadata": {},
     "output_type": "execute_result"
    }
   ],
   "source": [
    "df.shape"
   ]
  },
  {
   "cell_type": "code",
   "execution_count": 3,
   "metadata": {},
   "outputs": [
    {
     "data": {
      "text/html": [
       "<div>\n",
       "<style scoped>\n",
       "    .dataframe tbody tr th:only-of-type {\n",
       "        vertical-align: middle;\n",
       "    }\n",
       "\n",
       "    .dataframe tbody tr th {\n",
       "        vertical-align: top;\n",
       "    }\n",
       "\n",
       "    .dataframe thead th {\n",
       "        text-align: right;\n",
       "    }\n",
       "</style>\n",
       "<table border=\"1\" class=\"dataframe\">\n",
       "  <thead>\n",
       "    <tr style=\"text-align: right;\">\n",
       "      <th></th>\n",
       "      <th>Antagonismo</th>\n",
       "      <th>Intensidad</th>\n",
       "      <th>Text</th>\n",
       "      <th>Security</th>\n",
       "    </tr>\n",
       "  </thead>\n",
       "  <tbody>\n",
       "    <tr>\n",
       "      <th>0</th>\n",
       "      <td>Nacional</td>\n",
       "      <td>2</td>\n",
       "      <td>El TLC no sirvió, a México lo incrustaron, ni ...</td>\n",
       "      <td>8</td>\n",
       "    </tr>\n",
       "    <tr>\n",
       "      <th>1</th>\n",
       "      <td>Público</td>\n",
       "      <td>2</td>\n",
       "      <td>Hay más de 80 millones de pobres, se exportan ...</td>\n",
       "      <td>2</td>\n",
       "    </tr>\n",
       "    <tr>\n",
       "      <th>2</th>\n",
       "      <td>Nacional</td>\n",
       "      <td>3</td>\n",
       "      <td>Cedimos la banca nacional, no puedes competir ...</td>\n",
       "      <td>9</td>\n",
       "    </tr>\n",
       "    <tr>\n",
       "      <th>3</th>\n",
       "      <td>Interior</td>\n",
       "      <td>2</td>\n",
       "      <td>No está fluyendo el dinero, se dice que tienen...</td>\n",
       "      <td>5</td>\n",
       "    </tr>\n",
       "    <tr>\n",
       "      <th>4</th>\n",
       "      <td>Público</td>\n",
       "      <td>1</td>\n",
       "      <td>Las cajas de ahorro (casi 500) las había cread...</td>\n",
       "      <td>1</td>\n",
       "    </tr>\n",
       "  </tbody>\n",
       "</table>\n",
       "</div>"
      ],
      "text/plain": [
       "  Antagonismo  Intensidad                                               Text  \\\n",
       "0    Nacional           2  El TLC no sirvió, a México lo incrustaron, ni ...   \n",
       "1     Público           2  Hay más de 80 millones de pobres, se exportan ...   \n",
       "2    Nacional           3  Cedimos la banca nacional, no puedes competir ...   \n",
       "3    Interior           2  No está fluyendo el dinero, se dice que tienen...   \n",
       "4     Público           1  Las cajas de ahorro (casi 500) las había cread...   \n",
       "\n",
       "   Security  \n",
       "0         8  \n",
       "1         2  \n",
       "2         9  \n",
       "3         5  \n",
       "4         1  "
      ]
     },
     "execution_count": 3,
     "metadata": {},
     "output_type": "execute_result"
    }
   ],
   "source": [
    "df.head()"
   ]
  },
  {
   "cell_type": "markdown",
   "metadata": {},
   "source": [
    "### Some Functions"
   ]
  },
  {
   "cell_type": "code",
   "execution_count": 5,
   "metadata": {},
   "outputs": [],
   "source": [
    "# Lets create some functions\n",
    "def create_corpus(df, target):\n",
    "    corpus = []\n",
    "    for i in df[df[\"Renaissance\"] == target].Text.str.split():\n",
    "        for j in i:\n",
    "            corpus.append(j)\n",
    "    return corpus\n",
    "\n",
    "# Removing punctuation\n",
    "def remove_punct(text):\n",
    "    table = str.maketrans(\"\", \"\", string.punctuation)\n",
    "    return text.translate(table)\n",
    "\n",
    "# Removing the stopwords\n",
    "def remove_stopwords(text):\n",
    "    text = [word.lower() for word in text.split() if word.lower() not in stop]\n",
    "    return \" \".join(text)\n",
    "\n",
    "def lematizer(text):\n",
    "    text = [wordnet.lemmatize(word) for word in text.split()]\n",
    "    return \" \".join(text)"
   ]
  },
  {
   "cell_type": "code",
   "execution_count": 6,
   "metadata": {},
   "outputs": [
    {
     "data": {
      "text/plain": [
       "Nacional    427\n",
       "Interior    133\n",
       "Público      20\n",
       "Name: Antagonismo, dtype: int64"
      ]
     },
     "execution_count": 6,
     "metadata": {},
     "output_type": "execute_result"
    }
   ],
   "source": [
    "df[\"Antagonismo\"].value_counts()"
   ]
  },
  {
   "cell_type": "code",
   "execution_count": 7,
   "metadata": {},
   "outputs": [
    {
     "data": {
      "text/plain": [
       "2    260\n",
       "1    168\n",
       "3    152\n",
       "Name: Intensidad, dtype: int64"
      ]
     },
     "execution_count": 7,
     "metadata": {},
     "output_type": "execute_result"
    }
   ],
   "source": [
    "df[\"Intensidad\"].value_counts()"
   ]
  },
  {
   "cell_type": "code",
   "execution_count": 8,
   "metadata": {},
   "outputs": [
    {
     "data": {
      "text/plain": [
       "8    198\n",
       "7    153\n",
       "9     76\n",
       "6     68\n",
       "5     54\n",
       "4     11\n",
       "3      8\n",
       "2      8\n",
       "1      4\n",
       "Name: Security, dtype: int64"
      ]
     },
     "execution_count": 8,
     "metadata": {},
     "output_type": "execute_result"
    }
   ],
   "source": [
    "df[\"Security\"].value_counts()"
   ]
  },
  {
   "cell_type": "code",
   "execution_count": 9,
   "metadata": {},
   "outputs": [],
   "source": [
    "df[\"Text\"] = df[\"Text\"].map(remove_punct)"
   ]
  },
  {
   "cell_type": "code",
   "execution_count": 11,
   "metadata": {},
   "outputs": [
    {
     "data": {
      "text/html": [
       "<div>\n",
       "<style scoped>\n",
       "    .dataframe tbody tr th:only-of-type {\n",
       "        vertical-align: middle;\n",
       "    }\n",
       "\n",
       "    .dataframe tbody tr th {\n",
       "        vertical-align: top;\n",
       "    }\n",
       "\n",
       "    .dataframe thead th {\n",
       "        text-align: right;\n",
       "    }\n",
       "</style>\n",
       "<table border=\"1\" class=\"dataframe\">\n",
       "  <thead>\n",
       "    <tr style=\"text-align: right;\">\n",
       "      <th></th>\n",
       "      <th>Antagonismo</th>\n",
       "      <th>Intensidad</th>\n",
       "      <th>Text</th>\n",
       "      <th>Security</th>\n",
       "    </tr>\n",
       "  </thead>\n",
       "  <tbody>\n",
       "    <tr>\n",
       "      <th>0</th>\n",
       "      <td>Nacional</td>\n",
       "      <td>2</td>\n",
       "      <td>El TLC no sirvió a México lo incrustaron ni si...</td>\n",
       "      <td>8</td>\n",
       "    </tr>\n",
       "    <tr>\n",
       "      <th>1</th>\n",
       "      <td>Público</td>\n",
       "      <td>2</td>\n",
       "      <td>Hay más de 80 millones de pobres se exportan 3...</td>\n",
       "      <td>2</td>\n",
       "    </tr>\n",
       "    <tr>\n",
       "      <th>2</th>\n",
       "      <td>Nacional</td>\n",
       "      <td>3</td>\n",
       "      <td>Cedimos la banca nacional no puedes competir s...</td>\n",
       "      <td>9</td>\n",
       "    </tr>\n",
       "    <tr>\n",
       "      <th>3</th>\n",
       "      <td>Interior</td>\n",
       "      <td>2</td>\n",
       "      <td>No está fluyendo el dinero se dice que tienen ...</td>\n",
       "      <td>5</td>\n",
       "    </tr>\n",
       "    <tr>\n",
       "      <th>4</th>\n",
       "      <td>Público</td>\n",
       "      <td>1</td>\n",
       "      <td>Las cajas de ahorro casi 500 las había creado ...</td>\n",
       "      <td>1</td>\n",
       "    </tr>\n",
       "  </tbody>\n",
       "</table>\n",
       "</div>"
      ],
      "text/plain": [
       "  Antagonismo  Intensidad                                               Text  \\\n",
       "0    Nacional           2  El TLC no sirvió a México lo incrustaron ni si...   \n",
       "1     Público           2  Hay más de 80 millones de pobres se exportan 3...   \n",
       "2    Nacional           3  Cedimos la banca nacional no puedes competir s...   \n",
       "3    Interior           2  No está fluyendo el dinero se dice que tienen ...   \n",
       "4     Público           1  Las cajas de ahorro casi 500 las había creado ...   \n",
       "\n",
       "   Security  \n",
       "0         8  \n",
       "1         2  \n",
       "2         9  \n",
       "3         5  \n",
       "4         1  "
      ]
     },
     "execution_count": 11,
     "metadata": {},
     "output_type": "execute_result"
    }
   ],
   "source": [
    "df.head()"
   ]
  },
  {
   "cell_type": "code",
   "execution_count": 13,
   "metadata": {},
   "outputs": [],
   "source": [
    "df[\"Text\"] = df[\"Text\"].map(lambda x: x.lower())"
   ]
  },
  {
   "cell_type": "code",
   "execution_count": 14,
   "metadata": {},
   "outputs": [
    {
     "data": {
      "text/html": [
       "<div>\n",
       "<style scoped>\n",
       "    .dataframe tbody tr th:only-of-type {\n",
       "        vertical-align: middle;\n",
       "    }\n",
       "\n",
       "    .dataframe tbody tr th {\n",
       "        vertical-align: top;\n",
       "    }\n",
       "\n",
       "    .dataframe thead th {\n",
       "        text-align: right;\n",
       "    }\n",
       "</style>\n",
       "<table border=\"1\" class=\"dataframe\">\n",
       "  <thead>\n",
       "    <tr style=\"text-align: right;\">\n",
       "      <th></th>\n",
       "      <th>Antagonismo</th>\n",
       "      <th>Intensidad</th>\n",
       "      <th>Text</th>\n",
       "      <th>Security</th>\n",
       "    </tr>\n",
       "  </thead>\n",
       "  <tbody>\n",
       "    <tr>\n",
       "      <th>0</th>\n",
       "      <td>Nacional</td>\n",
       "      <td>2</td>\n",
       "      <td>el tlc no sirvió a méxico lo incrustaron ni si...</td>\n",
       "      <td>8</td>\n",
       "    </tr>\n",
       "    <tr>\n",
       "      <th>1</th>\n",
       "      <td>Público</td>\n",
       "      <td>2</td>\n",
       "      <td>hay más de 80 millones de pobres se exportan 3...</td>\n",
       "      <td>2</td>\n",
       "    </tr>\n",
       "    <tr>\n",
       "      <th>2</th>\n",
       "      <td>Nacional</td>\n",
       "      <td>3</td>\n",
       "      <td>cedimos la banca nacional no puedes competir s...</td>\n",
       "      <td>9</td>\n",
       "    </tr>\n",
       "    <tr>\n",
       "      <th>3</th>\n",
       "      <td>Interior</td>\n",
       "      <td>2</td>\n",
       "      <td>no está fluyendo el dinero se dice que tienen ...</td>\n",
       "      <td>5</td>\n",
       "    </tr>\n",
       "    <tr>\n",
       "      <th>4</th>\n",
       "      <td>Público</td>\n",
       "      <td>1</td>\n",
       "      <td>las cajas de ahorro casi 500 las había creado ...</td>\n",
       "      <td>1</td>\n",
       "    </tr>\n",
       "  </tbody>\n",
       "</table>\n",
       "</div>"
      ],
      "text/plain": [
       "  Antagonismo  Intensidad                                               Text  \\\n",
       "0    Nacional           2  el tlc no sirvió a méxico lo incrustaron ni si...   \n",
       "1     Público           2  hay más de 80 millones de pobres se exportan 3...   \n",
       "2    Nacional           3  cedimos la banca nacional no puedes competir s...   \n",
       "3    Interior           2  no está fluyendo el dinero se dice que tienen ...   \n",
       "4     Público           1  las cajas de ahorro casi 500 las había creado ...   \n",
       "\n",
       "   Security  \n",
       "0         8  \n",
       "1         2  \n",
       "2         9  \n",
       "3         5  \n",
       "4         1  "
      ]
     },
     "execution_count": 14,
     "metadata": {},
     "output_type": "execute_result"
    }
   ],
   "source": [
    "df.head()"
   ]
  },
  {
   "cell_type": "code",
   "execution_count": 15,
   "metadata": {},
   "outputs": [],
   "source": [
    "wordnet = WordNetLemmatizer()\n",
    "corpus = []"
   ]
  },
  {
   "cell_type": "code",
   "execution_count": 16,
   "metadata": {},
   "outputs": [],
   "source": [
    "# In this case we preserve the stop words since the statements in the Text don't have the length of a full article\n",
    "df[\"Text\"] = df.Text.apply(lematizer)"
   ]
  },
  {
   "cell_type": "code",
   "execution_count": 17,
   "metadata": {},
   "outputs": [
    {
     "data": {
      "text/html": [
       "<div>\n",
       "<style scoped>\n",
       "    .dataframe tbody tr th:only-of-type {\n",
       "        vertical-align: middle;\n",
       "    }\n",
       "\n",
       "    .dataframe tbody tr th {\n",
       "        vertical-align: top;\n",
       "    }\n",
       "\n",
       "    .dataframe thead th {\n",
       "        text-align: right;\n",
       "    }\n",
       "</style>\n",
       "<table border=\"1\" class=\"dataframe\">\n",
       "  <thead>\n",
       "    <tr style=\"text-align: right;\">\n",
       "      <th></th>\n",
       "      <th>Antagonismo</th>\n",
       "      <th>Intensidad</th>\n",
       "      <th>Text</th>\n",
       "      <th>Security</th>\n",
       "    </tr>\n",
       "  </thead>\n",
       "  <tbody>\n",
       "    <tr>\n",
       "      <th>0</th>\n",
       "      <td>Nacional</td>\n",
       "      <td>2</td>\n",
       "      <td>el tlc no sirvió a méxico lo incrustaron ni si...</td>\n",
       "      <td>8</td>\n",
       "    </tr>\n",
       "    <tr>\n",
       "      <th>1</th>\n",
       "      <td>Público</td>\n",
       "      <td>2</td>\n",
       "      <td>hay más de 80 millones de pobres se exportan 3...</td>\n",
       "      <td>2</td>\n",
       "    </tr>\n",
       "    <tr>\n",
       "      <th>2</th>\n",
       "      <td>Nacional</td>\n",
       "      <td>3</td>\n",
       "      <td>cedimos la banca nacional no puedes competir s...</td>\n",
       "      <td>9</td>\n",
       "    </tr>\n",
       "    <tr>\n",
       "      <th>3</th>\n",
       "      <td>Interior</td>\n",
       "      <td>2</td>\n",
       "      <td>no está fluyendo el dinero se dice que tienen ...</td>\n",
       "      <td>5</td>\n",
       "    </tr>\n",
       "    <tr>\n",
       "      <th>4</th>\n",
       "      <td>Público</td>\n",
       "      <td>1</td>\n",
       "      <td>la cajas de ahorro casi 500 la había creado ad...</td>\n",
       "      <td>1</td>\n",
       "    </tr>\n",
       "  </tbody>\n",
       "</table>\n",
       "</div>"
      ],
      "text/plain": [
       "  Antagonismo  Intensidad                                               Text  \\\n",
       "0    Nacional           2  el tlc no sirvió a méxico lo incrustaron ni si...   \n",
       "1     Público           2  hay más de 80 millones de pobres se exportan 3...   \n",
       "2    Nacional           3  cedimos la banca nacional no puedes competir s...   \n",
       "3    Interior           2  no está fluyendo el dinero se dice que tienen ...   \n",
       "4     Público           1  la cajas de ahorro casi 500 la había creado ad...   \n",
       "\n",
       "   Security  \n",
       "0         8  \n",
       "1         2  \n",
       "2         9  \n",
       "3         5  \n",
       "4         1  "
      ]
     },
     "execution_count": 17,
     "metadata": {},
     "output_type": "execute_result"
    }
   ],
   "source": [
    "df.head()"
   ]
  },
  {
   "cell_type": "code",
   "execution_count": 18,
   "metadata": {},
   "outputs": [],
   "source": [
    "# We choose the size of the vocabulary\n",
    "voc_size = 5_000"
   ]
  },
  {
   "cell_type": "code",
   "execution_count": 29,
   "metadata": {},
   "outputs": [],
   "source": [
    "X = df.drop([\"Antagonismo\", \"Intensidad\", \"Security\"], axis=1)\n",
    "y = df[\"Security\"]"
   ]
  },
  {
   "cell_type": "code",
   "execution_count": 31,
   "metadata": {},
   "outputs": [],
   "source": [
    "# Now we need to append the sentences to one single corpus\n",
    "for i in range(0, X.shape[0]):\n",
    "    corpus.append(X[\"Text\"][i])"
   ]
  },
  {
   "cell_type": "code",
   "execution_count": 32,
   "metadata": {},
   "outputs": [
    {
     "data": {
      "text/plain": [
       "['el tlc no sirvió a méxico lo incrustaron ni siquiera lo consultaron',\n",
       " 'hay más de 80 millones de pobres se exportan 30 millones de mexicano por que no hay trabajo',\n",
       " 'cedimos la banca nacional no puedes competir si no tienes banca el 92 de la banca e extranjera brasil y china le deben su éxito a que su banca en nacional',\n",
       " 'no está fluyendo el dinero se dice que tienen 180 billones de dólares de reserva pero no se están usando',\n",
       " 'la cajas de ahorro casi 500 la había creado adriana salina de gortari y quebraron',\n",
       " 'luego no metieron al aspan asociación de prosperidad y seguridad de norte américa que hizo fox a espaldas de la nación',\n",
       " 'estamos en un momento sumamente militar',\n",
       " 'con trump y su política proteccionista ya de facto dice que el modelo neoliberal está muerto',\n",
       " 'existe una globalización digital que está sustituyendo la globalización mercantilista y la globalización financiera',\n",
       " 'pareciera que no existen instrumentos ciudadanos de cogobierno en el siglo xxi e decir no podemos quedarnos con la mismas estructuras de separación como el ejecutivo legislativo y judicial por que empiezan en 1917 y andan tambaleándose en el xxi por eso la crisis de a clase política y de la democracia',\n",
       " 'la mentira que mejor publicidad tenga e la que va a ganar',\n",
       " 'por desgracia tenemos la espada de damocles por que van a explotar esa falla de la democracia para un mayor militarismo',\n",
       " 'the economist financial time que son de los rothschild the guardian ligado a soros',\n",
       " 'existe un armamentismo de la información y de la desinformación',\n",
       " 'la hiperconectividad en la esfera de la información se convirtió en el espacio competitivo más congestionado y peleado ya que gracias a internet el público puede identificar a persona con los mismos valores e intercambiar idea cuando los gobiernos no son sencillamente parte de esas conversaciones',\n",
       " 'gerge kenan en los 60’s dijo la verdad e a veces un pobre competidor en el mercado de la idea complicada insatisfactoria llena de dilemas siempre vulnerable a la malas interpretaciones y al abuso',\n",
       " 'wachovia bank lavaba 125 mmdd en méxico al año al igual que standard bank',\n",
       " 'crowe la guerra con alemania era inevitable por parte de gran bretaña',\n",
       " 'la primera plaza de trading e hong kong',\n",
       " 'la ruptura de europa con eu va a ser dolorosa']"
      ]
     },
     "execution_count": 32,
     "metadata": {},
     "output_type": "execute_result"
    }
   ],
   "source": [
    "corpus[0:20]"
   ]
  },
  {
   "cell_type": "code",
   "execution_count": 33,
   "metadata": {},
   "outputs": [
    {
     "data": {
      "text/plain": [
       "[693, 1054, 2372, 591, 4432, 1293, 1219, 1119, 2763, 1586, 1219, 1922]"
      ]
     },
     "execution_count": 33,
     "metadata": {},
     "output_type": "execute_result"
    }
   ],
   "source": [
    "# One-hot representation, we want the index based on the vocabulary size\n",
    "onehot_repr = [one_hot(words,voc_size)for words in corpus] \n",
    "onehot_repr[0]"
   ]
  },
  {
   "cell_type": "code",
   "execution_count": 34,
   "metadata": {},
   "outputs": [
    {
     "data": {
      "text/plain": [
       "array([   0,    0,    0,    0,    0,    0,    0,    0,    0,    0,    0,\n",
       "          0,    0,    0,    0,    0,    0,    0,    0,    0,    0,    0,\n",
       "          0,    0,    0,    0,    0,    0,    0,    0,    0,    0,    0,\n",
       "          0,    0,    0,    0,    0,    0,    0,    0,    0,    0,    0,\n",
       "          0,    0,    0,    0,  693, 1054, 2372,  591, 4432, 1293, 1219,\n",
       "       1119, 2763, 1586, 1219, 1922], dtype=int32)"
      ]
     },
     "execution_count": 34,
     "metadata": {},
     "output_type": "execute_result"
    }
   ],
   "source": [
    "# EMBEDDING REPRESENTATION\n",
    "# Making the sentences a fixed length\n",
    "sent_length = 60\n",
    "embedded_docs = pad_sequences(onehot_repr,padding='pre',maxlen=sent_length)\n",
    "embedded_docs[0]"
   ]
  },
  {
   "cell_type": "code",
   "execution_count": 36,
   "metadata": {},
   "outputs": [
    {
     "data": {
      "text/plain": [
       "0    8\n",
       "1    2\n",
       "2    9\n",
       "3    5\n",
       "4    1\n",
       "Name: Security, dtype: int64"
      ]
     },
     "execution_count": 36,
     "metadata": {},
     "output_type": "execute_result"
    }
   ],
   "source": [
    "y.head()"
   ]
  },
  {
   "cell_type": "code",
   "execution_count": 53,
   "metadata": {},
   "outputs": [
    {
     "data": {
      "text/html": [
       "<div>\n",
       "<style scoped>\n",
       "    .dataframe tbody tr th:only-of-type {\n",
       "        vertical-align: middle;\n",
       "    }\n",
       "\n",
       "    .dataframe tbody tr th {\n",
       "        vertical-align: top;\n",
       "    }\n",
       "\n",
       "    .dataframe thead th {\n",
       "        text-align: right;\n",
       "    }\n",
       "</style>\n",
       "<table border=\"1\" class=\"dataframe\">\n",
       "  <thead>\n",
       "    <tr style=\"text-align: right;\">\n",
       "      <th></th>\n",
       "      <th>1</th>\n",
       "      <th>2</th>\n",
       "      <th>3</th>\n",
       "      <th>4</th>\n",
       "      <th>5</th>\n",
       "      <th>6</th>\n",
       "      <th>7</th>\n",
       "      <th>8</th>\n",
       "      <th>9</th>\n",
       "    </tr>\n",
       "  </thead>\n",
       "  <tbody>\n",
       "    <tr>\n",
       "      <th>0</th>\n",
       "      <td>0</td>\n",
       "      <td>0</td>\n",
       "      <td>0</td>\n",
       "      <td>0</td>\n",
       "      <td>0</td>\n",
       "      <td>0</td>\n",
       "      <td>0</td>\n",
       "      <td>1</td>\n",
       "      <td>0</td>\n",
       "    </tr>\n",
       "    <tr>\n",
       "      <th>1</th>\n",
       "      <td>0</td>\n",
       "      <td>1</td>\n",
       "      <td>0</td>\n",
       "      <td>0</td>\n",
       "      <td>0</td>\n",
       "      <td>0</td>\n",
       "      <td>0</td>\n",
       "      <td>0</td>\n",
       "      <td>0</td>\n",
       "    </tr>\n",
       "    <tr>\n",
       "      <th>2</th>\n",
       "      <td>0</td>\n",
       "      <td>0</td>\n",
       "      <td>0</td>\n",
       "      <td>0</td>\n",
       "      <td>0</td>\n",
       "      <td>0</td>\n",
       "      <td>0</td>\n",
       "      <td>0</td>\n",
       "      <td>1</td>\n",
       "    </tr>\n",
       "    <tr>\n",
       "      <th>3</th>\n",
       "      <td>0</td>\n",
       "      <td>0</td>\n",
       "      <td>0</td>\n",
       "      <td>0</td>\n",
       "      <td>1</td>\n",
       "      <td>0</td>\n",
       "      <td>0</td>\n",
       "      <td>0</td>\n",
       "      <td>0</td>\n",
       "    </tr>\n",
       "    <tr>\n",
       "      <th>4</th>\n",
       "      <td>1</td>\n",
       "      <td>0</td>\n",
       "      <td>0</td>\n",
       "      <td>0</td>\n",
       "      <td>0</td>\n",
       "      <td>0</td>\n",
       "      <td>0</td>\n",
       "      <td>0</td>\n",
       "      <td>0</td>\n",
       "    </tr>\n",
       "  </tbody>\n",
       "</table>\n",
       "</div>"
      ],
      "text/plain": [
       "   1  2  3  4  5  6  7  8  9\n",
       "0  0  0  0  0  0  0  0  1  0\n",
       "1  0  1  0  0  0  0  0  0  0\n",
       "2  0  0  0  0  0  0  0  0  1\n",
       "3  0  0  0  0  1  0  0  0  0\n",
       "4  1  0  0  0  0  0  0  0  0"
      ]
     },
     "execution_count": 53,
     "metadata": {},
     "output_type": "execute_result"
    }
   ],
   "source": [
    "# Getting dummies for the dependent variable\n",
    "y = pd.get_dummies(y)\n",
    "y.head()"
   ]
  },
  {
   "cell_type": "code",
   "execution_count": 54,
   "metadata": {},
   "outputs": [
    {
     "name": "stdout",
     "output_type": "stream",
     "text": [
      "(522, 60) (522, 9)\n",
      "(58, 60) (58, 9)\n"
     ]
    }
   ],
   "source": [
    "X_train, X_test, Y_train, Y_test = train_test_split(embedded_docs, y.values, test_size = 0.10, random_state = 42)\n",
    "print(X_train.shape,Y_train.shape)\n",
    "print(X_test.shape,Y_test.shape)"
   ]
  },
  {
   "cell_type": "code",
   "execution_count": 55,
   "metadata": {},
   "outputs": [
    {
     "data": {
      "text/plain": [
       "array([   0,    0,    0,    0,    0,    0,    0,    0,    0,    0,    0,\n",
       "          0,    0,    0,    0,    0,    0,    0,    0,    0,    0,    0,\n",
       "          0,    0,    0,    0,    0,    0,    0,    0,    0,    0,    0,\n",
       "          0,    0,    0,    0,    0,    0,    0,    0,    0,    0,  364,\n",
       "       1846, 3406,  693, 1698,  262, 2812, 1633,  489,  693, 3277, 1525,\n",
       "       4537,  693, 1699,  693,  693], dtype=int32)"
      ]
     },
     "execution_count": 55,
     "metadata": {},
     "output_type": "execute_result"
    }
   ],
   "source": [
    "X_train[0]"
   ]
  },
  {
   "cell_type": "code",
   "execution_count": 57,
   "metadata": {},
   "outputs": [
    {
     "data": {
      "text/plain": [
       "array([0, 0, 0, 0, 0, 1, 0, 0, 0], dtype=uint8)"
      ]
     },
     "execution_count": 57,
     "metadata": {},
     "output_type": "execute_result"
    }
   ],
   "source": [
    "Y_train[0]"
   ]
  },
  {
   "cell_type": "code",
   "execution_count": 49,
   "metadata": {},
   "outputs": [
    {
     "name": "stdout",
     "output_type": "stream",
     "text": [
      "Model: \"sequential_2\"\n",
      "_________________________________________________________________\n",
      "Layer (type)                 Output Shape              Param #   \n",
      "=================================================================\n",
      "embedding_2 (Embedding)      (None, 60, 40)            200000    \n",
      "_________________________________________________________________\n",
      "spatial_dropout1d (SpatialDr (None, 60, 40)            0         \n",
      "_________________________________________________________________\n",
      "lstm (LSTM)                  (None, 100)               56400     \n",
      "_________________________________________________________________\n",
      "dense (Dense)                (None, 9)                 909       \n",
      "=================================================================\n",
      "Total params: 257,309\n",
      "Trainable params: 257,309\n",
      "Non-trainable params: 0\n",
      "_________________________________________________________________\n",
      "None\n"
     ]
    }
   ],
   "source": [
    "# Actually creating the model, first trial\n",
    "embedding_vector_features = 40\n",
    "model = Sequential()\n",
    "model.add(Embedding(voc_size,embedding_vector_features,input_length=sent_length))\n",
    "model.add(SpatialDropout1D(0.2))\n",
    "model.add(LSTM(100, dropout=0.2, recurrent_dropout=0.2))\n",
    "model.add(Dense(9,activation='softmax'))\n",
    "model.compile(loss='categorical_crossentropy',optimizer='adam',metrics=['accuracy'])\n",
    "print(model.summary())"
   ]
  },
  {
   "cell_type": "markdown",
   "metadata": {},
   "source": [
    "## Model Training"
   ]
  },
  {
   "cell_type": "code",
   "execution_count": 50,
   "metadata": {},
   "outputs": [],
   "source": [
    "from keras.callbacks import EarlyStopping"
   ]
  },
  {
   "cell_type": "code",
   "execution_count": 58,
   "metadata": {},
   "outputs": [
    {
     "name": "stdout",
     "output_type": "stream",
     "text": [
      "Train on 469 samples, validate on 53 samples\n",
      "Epoch 1/20\n",
      "469/469 [==============================] - 6s 12ms/sample - loss: 2.0299 - accuracy: 0.2985 - val_loss: 1.7863 - val_accuracy: 0.3774\n",
      "Epoch 2/20\n",
      "469/469 [==============================] - 2s 5ms/sample - loss: 1.7107 - accuracy: 0.3241 - val_loss: 1.7581 - val_accuracy: 0.1509\n",
      "Epoch 3/20\n",
      "469/469 [==============================] - 2s 5ms/sample - loss: 1.7066 - accuracy: 0.3262 - val_loss: 1.7439 - val_accuracy: 0.3774\n",
      "Epoch 4/20\n",
      "469/469 [==============================] - 2s 5ms/sample - loss: 1.6845 - accuracy: 0.3348 - val_loss: 1.7119 - val_accuracy: 0.3774\n",
      "Epoch 5/20\n",
      "469/469 [==============================] - 2s 5ms/sample - loss: 1.6732 - accuracy: 0.3646 - val_loss: 1.7640 - val_accuracy: 0.1509\n",
      "Epoch 6/20\n",
      "469/469 [==============================] - 2s 5ms/sample - loss: 1.6468 - accuracy: 0.3923 - val_loss: 1.6694 - val_accuracy: 0.3774\n",
      "Epoch 7/20\n",
      "469/469 [==============================] - 2s 5ms/sample - loss: 1.5992 - accuracy: 0.4968 - val_loss: 1.7045 - val_accuracy: 0.3962\n",
      "Epoch 8/20\n",
      "469/469 [==============================] - 2s 5ms/sample - loss: 1.4863 - accuracy: 0.5437 - val_loss: 1.6420 - val_accuracy: 0.3396\n",
      "Epoch 9/20\n",
      "469/469 [==============================] - 2s 5ms/sample - loss: 1.3238 - accuracy: 0.5586 - val_loss: 1.7174 - val_accuracy: 0.2830\n",
      "Epoch 10/20\n",
      "469/469 [==============================] - 2s 5ms/sample - loss: 1.1154 - accuracy: 0.6525 - val_loss: 1.4882 - val_accuracy: 0.4151\n",
      "Epoch 11/20\n",
      "469/469 [==============================] - 2s 5ms/sample - loss: 0.8909 - accuracy: 0.7633 - val_loss: 1.5684 - val_accuracy: 0.2642\n",
      "Epoch 12/20\n",
      "469/469 [==============================] - 2s 5ms/sample - loss: 0.7266 - accuracy: 0.8166 - val_loss: 1.4562 - val_accuracy: 0.4340\n",
      "Epoch 13/20\n",
      "469/469 [==============================] - 2s 5ms/sample - loss: 0.5993 - accuracy: 0.8550 - val_loss: 1.5902 - val_accuracy: 0.4151\n",
      "Epoch 14/20\n",
      "469/469 [==============================] - 2s 5ms/sample - loss: 0.4895 - accuracy: 0.8849 - val_loss: 1.5971 - val_accuracy: 0.4340\n",
      "Epoch 15/20\n",
      "469/469 [==============================] - 2s 5ms/sample - loss: 0.3693 - accuracy: 0.9211 - val_loss: 1.6940 - val_accuracy: 0.3774\n"
     ]
    }
   ],
   "source": [
    "history = model.fit(X_train, Y_train, validation_split=0.1, epochs=20, batch_size=25, callbacks=[EarlyStopping(monitor='val_loss', patience=3, min_delta=0.0001)])"
   ]
  },
  {
   "cell_type": "code",
   "execution_count": 59,
   "metadata": {},
   "outputs": [
    {
     "name": "stdout",
     "output_type": "stream",
     "text": [
      "58/1 [============================================================================================================================================================================================================================================================================================================================================================================================================================================================================================================================================================================================================================================================================================================================================================================================================================================================================================================================================================================================================================================================================================================================================================================================================================================================================================================================================================================================================================================================================================================================================================================================================================================================================================================================================================================================================] - 0s 1ms/sample - loss: 2.0324 - accuracy: 0.4138\n",
      "Test set\n",
      "  Loss: 1.892\n",
      "  Accuracy: 0.414\n"
     ]
    }
   ],
   "source": [
    "accr = model.evaluate(X_test,Y_test)\n",
    "print('Test set\\n  Loss: {:0.3f}\\n  Accuracy: {:0.3f}'.format(accr[0],accr[1]))"
   ]
  },
  {
   "cell_type": "code",
   "execution_count": 60,
   "metadata": {},
   "outputs": [
    {
     "data": {
      "image/png": "[encoded data removed]",
      "text/plain": [
       "<Figure size 432x288 with 1 Axes>"
      ]
     },
     "metadata": {
      "needs_background": "light"
     },
     "output_type": "display_data"
    }
   ],
   "source": [
    "plt.title('Loss')\n",
    "plt.plot(history.history['loss'], label='train')\n",
    "plt.plot(history.history['val_loss'], label='test')\n",
    "plt.legend()\n",
    "plt.show();"
   ]
  },
  {
   "cell_type": "code",
   "execution_count": 72,
   "metadata": {},
   "outputs": [
    {
     "data": {
      "image/png": "[encoded data removed]",
      "text/plain": [
       "<Figure size 432x288 with 1 Axes>"
      ]
     },
     "metadata": {
      "needs_background": "light"
     },
     "output_type": "display_data"
    }
   ],
   "source": [
    "plt.title('Accuracy')\n",
    "plt.plot(history.history['accuracy'], label='train')\n",
    "plt.plot(history.history['val_accuracy'], label='test')\n",
    "plt.legend()\n",
    "plt.show();"
   ]
  },
  {
   "cell_type": "markdown",
   "metadata": {},
   "source": [
    "## Try a Bidirectional model"
   ]
  },
  {
   "cell_type": "code",
   "execution_count": 73,
   "metadata": {},
   "outputs": [
    {
     "name": "stdout",
     "output_type": "stream",
     "text": [
      "Model: \"sequential_3\"\n",
      "_________________________________________________________________\n",
      "Layer (type)                 Output Shape              Param #   \n",
      "=================================================================\n",
      "embedding_3 (Embedding)      (None, 60, 40)            200000    \n",
      "_________________________________________________________________\n",
      "spatial_dropout1d_1 (Spatial (None, 60, 40)            0         \n",
      "_________________________________________________________________\n",
      "bidirectional (Bidirectional (None, 200)               112800    \n",
      "_________________________________________________________________\n",
      "dense_1 (Dense)              (None, 9)                 1809      \n",
      "=================================================================\n",
      "Total params: 314,609\n",
      "Trainable params: 314,609\n",
      "Non-trainable params: 0\n",
      "_________________________________________________________________\n",
      "None\n"
     ]
    }
   ],
   "source": [
    "model = Sequential()\n",
    "model.add(Embedding(voc_size,embedding_vector_features,input_length=sent_length))\n",
    "model.add(SpatialDropout1D(0.2))\n",
    "model.add(Bidirectional(LSTM(100, dropout=0.2, recurrent_dropout=0.2, activation='relu')))\n",
    "model.add(Dense(9,activation='softmax'))\n",
    "model.compile(loss='categorical_crossentropy',optimizer='adam',metrics=['accuracy'])\n",
    "print(model.summary())"
   ]
  },
  {
   "cell_type": "code",
   "execution_count": 74,
   "metadata": {},
   "outputs": [
    {
     "name": "stdout",
     "output_type": "stream",
     "text": [
      "Train on 469 samples, validate on 53 samples\n",
      "Epoch 1/20\n",
      "469/469 [==============================] - 8s 17ms/sample - loss: 2.0994 - accuracy: 0.3134 - val_loss: 1.8735 - val_accuracy: 0.3774\n",
      "Epoch 2/20\n",
      "469/469 [==============================] - 2s 5ms/sample - loss: 1.7931 - accuracy: 0.3603 - val_loss: 1.7849 - val_accuracy: 0.1509\n",
      "Epoch 3/20\n",
      "469/469 [==============================] - 2s 5ms/sample - loss: 1.7473 - accuracy: 0.2751 - val_loss: 1.7362 - val_accuracy: 0.3208\n",
      "Epoch 4/20\n",
      "469/469 [==============================] - 2s 5ms/sample - loss: 1.6962 - accuracy: 0.3198 - val_loss: 1.7286 - val_accuracy: 0.3774\n",
      "Epoch 5/20\n",
      "469/469 [==============================] - 2s 5ms/sample - loss: 1.6905 - accuracy: 0.3454 - val_loss: 1.7400 - val_accuracy: 0.3774\n",
      "Epoch 6/20\n",
      "469/469 [==============================] - 2s 5ms/sample - loss: 1.6732 - accuracy: 0.3667 - val_loss: 1.7034 - val_accuracy: 0.3774\n",
      "Epoch 7/20\n",
      "469/469 [==============================] - 2s 5ms/sample - loss: 1.6528 - accuracy: 0.3689 - val_loss: 1.7106 - val_accuracy: 0.3774\n",
      "Epoch 8/20\n",
      "469/469 [==============================] - 2s 5ms/sample - loss: 1.6141 - accuracy: 0.3795 - val_loss: 1.7422 - val_accuracy: 0.3208\n",
      "Epoch 9/20\n",
      "469/469 [==============================] - 2s 5ms/sample - loss: 1.5511 - accuracy: 0.4307 - val_loss: 1.6208 - val_accuracy: 0.3774\n",
      "Epoch 10/20\n",
      "469/469 [==============================] - 2s 5ms/sample - loss: 1.4222 - accuracy: 0.5096 - val_loss: 1.6756 - val_accuracy: 0.2264\n",
      "Epoch 11/20\n",
      "469/469 [==============================] - 2s 5ms/sample - loss: 1.2861 - accuracy: 0.5309 - val_loss: 1.5024 - val_accuracy: 0.3962\n",
      "Epoch 12/20\n",
      "469/469 [==============================] - 2s 5ms/sample - loss: 1.1353 - accuracy: 0.6375 - val_loss: 1.4519 - val_accuracy: 0.4528\n",
      "Epoch 13/20\n",
      "469/469 [==============================] - 2s 5ms/sample - loss: 1.0298 - accuracy: 0.6866 - val_loss: 1.4705 - val_accuracy: 0.4151\n",
      "Epoch 14/20\n",
      "469/469 [==============================] - 2s 5ms/sample - loss: 0.8942 - accuracy: 0.7015 - val_loss: 1.3968 - val_accuracy: 0.4528\n",
      "Epoch 15/20\n",
      "469/469 [==============================] - 2s 5ms/sample - loss: 0.7726 - accuracy: 0.7591 - val_loss: 1.5032 - val_accuracy: 0.4151\n",
      "Epoch 16/20\n",
      "469/469 [==============================] - 2s 5ms/sample - loss: 0.6736 - accuracy: 0.8124 - val_loss: 1.4893 - val_accuracy: 0.4151\n",
      "Epoch 17/20\n",
      "469/469 [==============================] - 2s 5ms/sample - loss: 0.6212 - accuracy: 0.8145 - val_loss: 1.5730 - val_accuracy: 0.4151\n"
     ]
    }
   ],
   "source": [
    "history = model.fit(X_train, Y_train, validation_split=0.1, epochs=20, batch_size=50, callbacks=[EarlyStopping(monitor='val_loss', patience=3, min_delta=0.0001)])"
   ]
  },
  {
   "cell_type": "code",
   "execution_count": 75,
   "metadata": {},
   "outputs": [
    {
     "name": "stdout",
     "output_type": "stream",
     "text": [
      "58/1 [============================================================================================================================================================================================================================================================================================================================================================================================================================================================================================================================================================================================================================================================================================================================================================================================================================================================================================================================================================================================================================================================================================================================================================================================================================================================================================================================================================================================================================================================================================================================================================================================================================================================================================================================================================================================================] - 0s 2ms/sample - loss: 1.7923 - accuracy: 0.3448\n",
      "Test set\n",
      "  Loss: 1.798\n",
      "  Accuracy: 0.345\n"
     ]
    }
   ],
   "source": [
    "accr = model.evaluate(X_test,Y_test)\n",
    "print('Test set\\n  Loss: {:0.3f}\\n  Accuracy: {:0.3f}'.format(accr[0],accr[1]))"
   ]
  },
  {
   "cell_type": "code",
   "execution_count": 76,
   "metadata": {},
   "outputs": [
    {
     "data": {
      "image/png": "[encoded data removed]",
      "text/plain": [
       "<Figure size 432x288 with 1 Axes>"
      ]
     },
     "metadata": {
      "needs_background": "light"
     },
     "output_type": "display_data"
    }
   ],
   "source": [
    "plt.title('Loss')\n",
    "plt.plot(history.history['loss'], label='train')\n",
    "plt.plot(history.history['val_loss'], label='test')\n",
    "plt.legend()\n",
    "plt.show();"
   ]
  },
  {
   "cell_type": "code",
   "execution_count": 77,
   "metadata": {},
   "outputs": [
    {
     "data": {
      "image/png": "[encoded data removed]",
      "text/plain": [
       "<Figure size 432x288 with 1 Axes>"
      ]
     },
     "metadata": {
      "needs_background": "light"
     },
     "output_type": "display_data"
    }
   ],
   "source": [
    "plt.title('Accuracy')\n",
    "plt.plot(history.history['accuracy'], label='train')\n",
    "plt.plot(history.history['val_accuracy'], label='test')\n",
    "plt.legend()\n",
    "plt.show();"
   ]
  },
  {
   "cell_type": "markdown",
   "metadata": {},
   "source": [
    "## Testing with new statements\n",
    "\n",
    "**Predict these statements:**\n",
    "1. \"El siguiente año el bitcoin va a seguir subiendo\"\n",
    "2. \"México entra en un nacionalismo puro\"\n",
    "3. \"2021 será el año de la inflación real\""
   ]
  },
  {
   "cell_type": "code",
   "execution_count": 78,
   "metadata": {},
   "outputs": [],
   "source": [
    "def preprocess_statement(text):\n",
    "    statement = remove_punct(text)\n",
    "    statement = statement.lower()\n",
    "    statement = remove_stopwords(statement)\n",
    "    statement = lematizer(statement)\n",
    "    statement = one_hot(statement, voc_size)\n",
    "    statement = pad_sequences([statement], padding='pre', maxlen=sent_length)\n",
    "    return statement"
   ]
  },
  {
   "cell_type": "code",
   "execution_count": 80,
   "metadata": {},
   "outputs": [],
   "source": [
    "labels = [\"Seguridad Pública Nivel 1\", \n",
    "          \"Seguridad Pública Nivel 2\",\n",
    "          \"Seguridad Pública Nivel 3\",\n",
    "          \"Seguridad Interior Nivel 1\",\n",
    "          \"Seguridad Interior Nivel 2\",\n",
    "          \"Seguridad Interior Nivel 3\",\n",
    "          \"Seguridad Nacional Nivel 1\",\n",
    "          \"Seguridad Nacional Nivel 2\",\n",
    "          \"Seguridad Nacional Nivel 3\"]"
   ]
  },
  {
   "cell_type": "code",
   "execution_count": 84,
   "metadata": {},
   "outputs": [],
   "source": [
    "pred = model.predict(preprocess_statement(\"El siguiente año el Bitcoin va a seguir subiendo\"))"
   ]
  },
  {
   "cell_type": "code",
   "execution_count": 85,
   "metadata": {},
   "outputs": [
    {
     "name": "stdout",
     "output_type": "stream",
     "text": [
      "[[0.00536262 0.01094743 0.00436418 0.01424189 0.02178924 0.00863544\n",
      "  0.79123145 0.124068   0.01935972]] Seguridad Nacional Nivel 1\n"
     ]
    }
   ],
   "source": [
    "print(pred, labels[np.argmax(pred)])"
   ]
  },
  {
   "cell_type": "markdown",
   "metadata": {},
   "source": [
    "## Second Statement"
   ]
  },
  {
   "cell_type": "code",
   "execution_count": 86,
   "metadata": {},
   "outputs": [
    {
     "name": "stdout",
     "output_type": "stream",
     "text": [
      "[[0.0187811  0.0382596  0.0428173  0.05933408 0.29357344 0.1406327\n",
      "  0.09951944 0.09457801 0.21250428]] Seguridad Interior Nivel 2\n"
     ]
    }
   ],
   "source": [
    "pred = model.predict(preprocess_statement(\"México entra en un nacionalismo puro\"))\n",
    "print(pred, labels[np.argmax(pred)])"
   ]
  },
  {
   "cell_type": "markdown",
   "metadata": {},
   "source": [
    "## Third Statement"
   ]
  },
  {
   "cell_type": "code",
   "execution_count": 87,
   "metadata": {},
   "outputs": [
    {
     "name": "stdout",
     "output_type": "stream",
     "text": [
      "[[0.01226279 0.02588269 0.01163873 0.0333868  0.06527083 0.04024188\n",
      "  0.39116526 0.36367124 0.05647982]] Seguridad Nacional Nivel 1\n"
     ]
    }
   ],
   "source": [
    "pred = model.predict(preprocess_statement(\"2021 será el año de la inflación real\"))\n",
    "print(pred, labels[np.argmax(pred)])"
   ]
  },
  {
   "cell_type": "markdown",
   "metadata": {},
   "source": [
    "## Fourth"
   ]
  },
  {
   "cell_type": "code",
   "execution_count": 88,
   "metadata": {},
   "outputs": [
    {
     "name": "stdout",
     "output_type": "stream",
     "text": [
      "[[0.01656197 0.03237712 0.03948719 0.05342806 0.29736224 0.18595497\n",
      "  0.0612279  0.08606134 0.22753918]] Seguridad Interior Nivel 2\n"
     ]
    }
   ],
   "source": [
    "pred = model.predict(preprocess_statement(\"Uno de los funcionarios que firmó el pacto por México sigue activo\"))\n",
    "print(pred, labels[np.argmax(pred)])"
   ]
  },
  {
   "cell_type": "markdown",
   "metadata": {},
   "source": [
    "## Fifth Statement"
   ]
  },
  {
   "cell_type": "code",
   "execution_count": 91,
   "metadata": {},
   "outputs": [
    {
     "name": "stdout",
     "output_type": "stream",
     "text": [
      "[[0.01872787 0.03845971 0.02812578 0.05579659 0.1536007  0.08542848\n",
      "  0.31310168 0.17466263 0.13209656]] Seguridad Nacional Nivel 1\n"
     ]
    }
   ],
   "source": [
    "pred = model.predict(preprocess_statement(\"Existen aún muchos muertos a causa del coronavirus\"))\n",
    "print(pred, labels[np.argmax(pred)])"
   ]
  },
  {
   "cell_type": "code",
   "execution_count": null,
   "metadata": {},
   "outputs": [],
   "source": []
  }
 ],
 "metadata": {
  "kernelspec": {
   "display_name": "Python 3",
   "language": "python",
   "name": "python3"
  },
  "language_info": {
   "codemirror_mode": {
    "name": "ipython",
    "version": 3
   },
   "file_extension": ".py",
   "mimetype": "text/x-python",
   "name": "python",
   "nbconvert_exporter": "python",
   "pygments_lexer": "ipython3",
   "version": "3.7.6"
  }
 },
 "nbformat": 4,
 "nbformat_minor": 4
}
